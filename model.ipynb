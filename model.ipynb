{
 "cells": [
  {
   "cell_type": "code",
   "execution_count": 7,
   "metadata": {},
   "outputs": [],
   "source": [
    "import numpy as np\n",
    "import pandas as pd\n",
    "from sklearn.ensemble import RandomForestClassifier\n",
    "import matplotlib.pyplot as plt\n",
    "import seaborn as sns\n",
    "from sklearn.model_selection import train_test_split\n",
    "from sklearn import metrics\n",
    "from sklearn.preprocessing import OneHotEncoder, RobustScaler\n",
    "from sklearn.impute import SimpleImputer\n",
    "from sklearn.compose import ColumnTransformer\n",
    "from sklearn.pipeline import Pipeline\n",
    "%matplotlib inline"
   ]
  },
  {
   "cell_type": "code",
   "execution_count": 8,
   "metadata": {},
   "outputs": [],
   "source": [
    "df = pd.read_csv('data.csv')\n",
    "#df.head()"
   ]
  },
  {
   "cell_type": "code",
   "execution_count": 9,
   "metadata": {},
   "outputs": [],
   "source": [
    "# numeric_features = df.select_dtypes(include=['int64', 'float64']).columns\n",
    "# numeric_transformer = Pipeline(steps=[\n",
    "#     ('imputer', SimpleImputer(strategy='median')),\n",
    "#     ('scaler', RobustScaler())])"
   ]
  },
  {
   "cell_type": "code",
   "execution_count": 10,
   "metadata": {},
   "outputs": [],
   "source": [
    "# categorical_features = df.select_dtypes(include=['object']).columns\n",
    "# categorical_transformer = Pipeline(steps=[\n",
    "#     ('imputer', SimpleImputer(strategy='constant', fill_value='missing')),\n",
    "#     ('onehot', OneHotEncoder(handle_unknown='ignore'))])"
   ]
  },
  {
   "cell_type": "code",
   "execution_count": 11,
   "metadata": {},
   "outputs": [],
   "source": [
    "# preprocessor = ColumnTransformer(\n",
    "#     transformers=[\n",
    "#         ('num', numeric_transformer, numeric_features),\n",
    "#         ('cat', categorical_transformer, categorical_features)])"
   ]
  },
  {
   "cell_type": "code",
   "execution_count": 12,
   "metadata": {},
   "outputs": [],
   "source": [
    "# X = df.drop('target', axis=1)  # assuming your DataFrame df has a 'target' column\n",
    "# y = df['target']\n",
    "# X_train, X_test, y_train, y_test = train_test_split(X, y, test_size=0.2)\n",
    "\n",
    "# # Preprocess the data\n",
    "# X_train = preprocessor.fit_transform(X_train)\n",
    "# X_test = preprocessor.transform(X_test)"
   ]
  },
  {
   "cell_type": "code",
   "execution_count": 25,
   "metadata": {},
   "outputs": [],
   "source": [
    "req_num_feats = None\n",
    "fixed_feats = False\n",
    "req_features = ['_id', 'segment_id', 'date', 'weekday', 'period', 's_node_id',\n",
    "       'e_node_id', 'length', 'street_id', 'max_velocity', 'street_level',\n",
    "       'street_name', 'street_type', 'long_snode', 'lat_snode', 'long_enode',\n",
    "       'lat_enode']\n",
    "target = ['LOS']"
   ]
  },
  {
   "cell_type": "code",
   "execution_count": 26,
   "metadata": {},
   "outputs": [],
   "source": [
    "df = df[req_features] + df[target]"
   ]
  },
  {
   "cell_type": "code",
   "execution_count": 14,
   "metadata": {},
   "outputs": [],
   "source": [
    "num_feats = [feature for feature in req_features if df[feature].dtype != 'O']\n",
    "cat_feats = [feature for feature in req_features if feature not in num_feats]"
   ]
  },
  {
   "cell_type": "code",
   "execution_count": 21,
   "metadata": {},
   "outputs": [
    {
     "name": "stdout",
     "output_type": "stream",
     "text": [
      "33441\n"
     ]
    }
   ],
   "source": [
    "rows = df.shape[0]\n",
    "columns = len(req_features)\n",
    "print(rows)"
   ]
  },
  {
   "cell_type": "code",
   "execution_count": 22,
   "metadata": {},
   "outputs": [],
   "source": [
    "null_percent = {}\n",
    "\n",
    "features_with_na=[features for features in req_features if df[features].isnull().sum()>1]\n",
    "\n",
    "\n",
    "for feature in req_features:\n",
    "    if feature in features_with_na:\n",
    "        null_percent[feature] = np.round(df[feature].isnull().mean()*100, 4)\n",
    "    else:\n",
    "        null_percent[feature] = 0"
   ]
  },
  {
   "cell_type": "code",
   "execution_count": 23,
   "metadata": {},
   "outputs": [
    {
     "data": {
      "text/plain": [
       "{'_id': 0,\n",
       " 'segment_id': 0,\n",
       " 'date': 0,\n",
       " 'weekday': 0,\n",
       " 'period': 0,\n",
       " 'LOS': 0,\n",
       " 's_node_id': 0,\n",
       " 'e_node_id': 0,\n",
       " 'length': 0,\n",
       " 'street_id': 0,\n",
       " 'max_velocity': 85.2098,\n",
       " 'street_level': 0,\n",
       " 'street_name': 0,\n",
       " 'street_type': 0,\n",
       " 'long_snode': 0,\n",
       " 'lat_snode': 0,\n",
       " 'long_enode': 0,\n",
       " 'lat_enode': 0}"
      ]
     },
     "execution_count": 23,
     "metadata": {},
     "output_type": "execute_result"
    }
   ],
   "source": [
    "null_percent"
   ]
  },
  {
   "cell_type": "code",
   "execution_count": 30,
   "metadata": {},
   "outputs": [],
   "source": [
    "# unique_percent = {}\n",
    "\n",
    "\n",
    "# for feature in req_features:\n",
    "#     unique_percent[feature] = (df[feature].nunique() / rows) * 100\n",
    "    "
   ]
  },
  {
   "cell_type": "markdown",
   "metadata": {},
   "source": [
    "NUMERICAL FEATURES"
   ]
  },
  {
   "cell_type": "code",
   "execution_count": 28,
   "metadata": {},
   "outputs": [],
   "source": [
    "if not fixed_feats:\n",
    "    for feature in num_feats:\n",
    "        if null_percent[feature] >= 50:\n",
    "            if req_num_feats:\n",
    "                if len(req_features) > req_num_feats:\n",
    "                    df.drop(feature, axis=1)\n",
    "                    req_features.remove(feature)"
   ]
  },
  {
   "cell_type": "code",
   "execution_count": null,
   "metadata": {},
   "outputs": [],
   "source": []
  }
 ],
 "metadata": {
  "kernelspec": {
   "display_name": "Python 3",
   "language": "python",
   "name": "python3"
  },
  "language_info": {
   "codemirror_mode": {
    "name": "ipython",
    "version": 3
   },
   "file_extension": ".py",
   "mimetype": "text/x-python",
   "name": "python",
   "nbconvert_exporter": "python",
   "pygments_lexer": "ipython3",
   "version": "3.10.11"
  }
 },
 "nbformat": 4,
 "nbformat_minor": 2
}
