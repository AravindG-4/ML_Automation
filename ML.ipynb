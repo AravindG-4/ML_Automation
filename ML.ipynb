{
 "cells": [
  {
   "cell_type": "code",
   "execution_count": 32,
   "metadata": {},
   "outputs": [],
   "source": [
    "import pandas as pd\n",
    "import numpy as np\n",
    "from handle_categorical_features import *"
   ]
  },
  {
   "cell_type": "code",
   "execution_count": 33,
   "metadata": {},
   "outputs": [],
   "source": [
    "import pandas as pd\n",
    "import numpy as np\n",
    "from handle_categorical_features import *\n",
    "df = pd.read_csv('/home/iqube/Downloads/data.xls')"
   ]
  },
  {
   "cell_type": "code",
   "execution_count": 34,
   "metadata": {},
   "outputs": [],
   "source": [
    "df = pd.read_csv('/home/iqube/Downloads/data.xls')"
   ]
  },
  {
   "cell_type": "code",
   "execution_count": 35,
   "metadata": {},
   "outputs": [
    {
     "data": {
      "text/html": [
       "<div>\n",
       "<style scoped>\n",
       "    .dataframe tbody tr th:only-of-type {\n",
       "        vertical-align: middle;\n",
       "    }\n",
       "\n",
       "    .dataframe tbody tr th {\n",
       "        vertical-align: top;\n",
       "    }\n",
       "\n",
       "    .dataframe thead th {\n",
       "        text-align: right;\n",
       "    }\n",
       "</style>\n",
       "<table border=\"1\" class=\"dataframe\">\n",
       "  <thead>\n",
       "    <tr style=\"text-align: right;\">\n",
       "      <th></th>\n",
       "      <th>date</th>\n",
       "      <th>price</th>\n",
       "      <th>bedrooms</th>\n",
       "      <th>bathrooms</th>\n",
       "      <th>sqft_living</th>\n",
       "      <th>sqft_lot</th>\n",
       "      <th>floors</th>\n",
       "      <th>waterfront</th>\n",
       "      <th>view</th>\n",
       "      <th>condition</th>\n",
       "      <th>sqft_above</th>\n",
       "      <th>sqft_basement</th>\n",
       "      <th>yr_built</th>\n",
       "      <th>yr_renovated</th>\n",
       "      <th>street</th>\n",
       "      <th>city</th>\n",
       "      <th>statezip</th>\n",
       "      <th>country</th>\n",
       "    </tr>\n",
       "  </thead>\n",
       "  <tbody>\n",
       "    <tr>\n",
       "      <th>0</th>\n",
       "      <td>2014-05-02 00:00:00</td>\n",
       "      <td>313000.0</td>\n",
       "      <td>3.0</td>\n",
       "      <td>1.50</td>\n",
       "      <td>1340</td>\n",
       "      <td>7912</td>\n",
       "      <td>1.5</td>\n",
       "      <td>0</td>\n",
       "      <td>0</td>\n",
       "      <td>3</td>\n",
       "      <td>1340</td>\n",
       "      <td>0</td>\n",
       "      <td>1955</td>\n",
       "      <td>2005</td>\n",
       "      <td>18810 Densmore Ave N</td>\n",
       "      <td>Shoreline</td>\n",
       "      <td>WA 98133</td>\n",
       "      <td>USA</td>\n",
       "    </tr>\n",
       "    <tr>\n",
       "      <th>1</th>\n",
       "      <td>2014-05-02 00:00:00</td>\n",
       "      <td>2384000.0</td>\n",
       "      <td>5.0</td>\n",
       "      <td>2.50</td>\n",
       "      <td>3650</td>\n",
       "      <td>9050</td>\n",
       "      <td>2.0</td>\n",
       "      <td>0</td>\n",
       "      <td>4</td>\n",
       "      <td>5</td>\n",
       "      <td>3370</td>\n",
       "      <td>280</td>\n",
       "      <td>1921</td>\n",
       "      <td>0</td>\n",
       "      <td>709 W Blaine St</td>\n",
       "      <td>Seattle</td>\n",
       "      <td>WA 98119</td>\n",
       "      <td>USA</td>\n",
       "    </tr>\n",
       "    <tr>\n",
       "      <th>2</th>\n",
       "      <td>2014-05-02 00:00:00</td>\n",
       "      <td>342000.0</td>\n",
       "      <td>3.0</td>\n",
       "      <td>2.00</td>\n",
       "      <td>1930</td>\n",
       "      <td>11947</td>\n",
       "      <td>1.0</td>\n",
       "      <td>0</td>\n",
       "      <td>0</td>\n",
       "      <td>4</td>\n",
       "      <td>1930</td>\n",
       "      <td>0</td>\n",
       "      <td>1966</td>\n",
       "      <td>0</td>\n",
       "      <td>26206-26214 143rd Ave SE</td>\n",
       "      <td>Kent</td>\n",
       "      <td>WA 98042</td>\n",
       "      <td>USA</td>\n",
       "    </tr>\n",
       "    <tr>\n",
       "      <th>3</th>\n",
       "      <td>2014-05-02 00:00:00</td>\n",
       "      <td>420000.0</td>\n",
       "      <td>3.0</td>\n",
       "      <td>2.25</td>\n",
       "      <td>2000</td>\n",
       "      <td>8030</td>\n",
       "      <td>1.0</td>\n",
       "      <td>0</td>\n",
       "      <td>0</td>\n",
       "      <td>4</td>\n",
       "      <td>1000</td>\n",
       "      <td>1000</td>\n",
       "      <td>1963</td>\n",
       "      <td>0</td>\n",
       "      <td>857 170th Pl NE</td>\n",
       "      <td>Bellevue</td>\n",
       "      <td>WA 98008</td>\n",
       "      <td>USA</td>\n",
       "    </tr>\n",
       "    <tr>\n",
       "      <th>4</th>\n",
       "      <td>2014-05-02 00:00:00</td>\n",
       "      <td>550000.0</td>\n",
       "      <td>4.0</td>\n",
       "      <td>2.50</td>\n",
       "      <td>1940</td>\n",
       "      <td>10500</td>\n",
       "      <td>1.0</td>\n",
       "      <td>0</td>\n",
       "      <td>0</td>\n",
       "      <td>4</td>\n",
       "      <td>1140</td>\n",
       "      <td>800</td>\n",
       "      <td>1976</td>\n",
       "      <td>1992</td>\n",
       "      <td>9105 170th Ave NE</td>\n",
       "      <td>Redmond</td>\n",
       "      <td>WA 98052</td>\n",
       "      <td>USA</td>\n",
       "    </tr>\n",
       "  </tbody>\n",
       "</table>\n",
       "</div>"
      ],
      "text/plain": [
       "                  date      price  bedrooms  bathrooms  sqft_living  sqft_lot  \\\n",
       "0  2014-05-02 00:00:00   313000.0       3.0       1.50         1340      7912   \n",
       "1  2014-05-02 00:00:00  2384000.0       5.0       2.50         3650      9050   \n",
       "2  2014-05-02 00:00:00   342000.0       3.0       2.00         1930     11947   \n",
       "3  2014-05-02 00:00:00   420000.0       3.0       2.25         2000      8030   \n",
       "4  2014-05-02 00:00:00   550000.0       4.0       2.50         1940     10500   \n",
       "\n",
       "   floors  waterfront  view  condition  sqft_above  sqft_basement  yr_built  \\\n",
       "0     1.5           0     0          3        1340              0      1955   \n",
       "1     2.0           0     4          5        3370            280      1921   \n",
       "2     1.0           0     0          4        1930              0      1966   \n",
       "3     1.0           0     0          4        1000           1000      1963   \n",
       "4     1.0           0     0          4        1140            800      1976   \n",
       "\n",
       "   yr_renovated                    street       city  statezip country  \n",
       "0          2005      18810 Densmore Ave N  Shoreline  WA 98133     USA  \n",
       "1             0           709 W Blaine St    Seattle  WA 98119     USA  \n",
       "2             0  26206-26214 143rd Ave SE       Kent  WA 98042     USA  \n",
       "3             0           857 170th Pl NE   Bellevue  WA 98008     USA  \n",
       "4          1992         9105 170th Ave NE    Redmond  WA 98052     USA  "
      ]
     },
     "execution_count": 35,
     "metadata": {},
     "output_type": "execute_result"
    }
   ],
   "source": [
    "df.head(\n",
    "        )"
   ]
  },
  {
   "cell_type": "code",
   "execution_count": null,
   "metadata": {},
   "outputs": [],
   "source": []
  },
  {
   "cell_type": "code",
   "execution_count": null,
   "metadata": {},
   "outputs": [],
   "source": []
  },
  {
   "cell_type": "code",
   "execution_count": 36,
   "metadata": {},
   "outputs": [
    {
     "name": "stdout",
     "output_type": "stream",
     "text": [
      "<class 'pandas.core.frame.DataFrame'>\n",
      "RangeIndex: 4600 entries, 0 to 4599\n",
      "Data columns (total 18 columns):\n",
      " #   Column         Non-Null Count  Dtype  \n",
      "---  ------         --------------  -----  \n",
      " 0   date           4600 non-null   object \n",
      " 1   price          4600 non-null   float64\n",
      " 2   bedrooms       4600 non-null   float64\n",
      " 3   bathrooms      4600 non-null   float64\n",
      " 4   sqft_living    4600 non-null   int64  \n",
      " 5   sqft_lot       4600 non-null   int64  \n",
      " 6   floors         4600 non-null   float64\n",
      " 7   waterfront     4600 non-null   int64  \n",
      " 8   view           4600 non-null   int64  \n",
      " 9   condition      4600 non-null   int64  \n",
      " 10  sqft_above     4600 non-null   int64  \n",
      " 11  sqft_basement  4600 non-null   int64  \n",
      " 12  yr_built       4600 non-null   int64  \n",
      " 13  yr_renovated   4600 non-null   int64  \n",
      " 14  street         4600 non-null   object \n",
      " 15  city           4600 non-null   object \n",
      " 16  statezip       4600 non-null   object \n",
      " 17  country        4600 non-null   object \n",
      "dtypes: float64(4), int64(9), object(5)\n",
      "memory usage: 647.0+ KB\n"
     ]
    }
   ],
   "source": [
    "df.info()"
   ]
  },
  {
   "cell_type": "code",
   "execution_count": 37,
   "metadata": {},
   "outputs": [],
   "source": [
    "import pandas as pd\n",
    "import numpy as np\n",
    "from handle_categorical_features import *\n",
    "df = pd.read_csv('/home/iqube/Downloads/data.xls')\n",
    "features = df.columns.to_list()"
   ]
  },
  {
   "cell_type": "code",
   "execution_count": 38,
   "metadata": {},
   "outputs": [],
   "source": [
    "object_features = [ feature for feature in features if df[feature].dtype == 'O']"
   ]
  },
  {
   "cell_type": "code",
   "execution_count": 39,
   "metadata": {},
   "outputs": [
    {
     "name": "stdout",
     "output_type": "stream",
     "text": [
      "Feature date has 70 unique values\n",
      "\n",
      "\n",
      "****************************************************************************************************\n",
      "Feature street has 4525 unique values\n",
      "\n",
      "\n",
      "****************************************************************************************************\n",
      "Feature city has 44 unique values\n",
      "\n",
      "\n",
      "****************************************************************************************************\n",
      "Feature statezip has 77 unique values\n",
      "\n",
      "\n",
      "****************************************************************************************************\n",
      "Feature country has 1 unique values\n",
      "\n",
      "\n",
      "****************************************************************************************************\n"
     ]
    }
   ],
   "source": [
    "for i in object_features:\n",
    "\n",
    "    print(f\"Feature {i} has {len(df[i].unique())} unique values\")\n",
    "    print(\"\\n\")\n",
    "    print(\"*\"*100)"
   ]
  },
  {
   "cell_type": "code",
   "execution_count": 40,
   "metadata": {},
   "outputs": [],
   "source": [
    "df.drop(labels =['date','street','statezip','country'],axis = 1 , inplace = True)"
   ]
  },
  {
   "cell_type": "code",
   "execution_count": 41,
   "metadata": {},
   "outputs": [
    {
     "name": "stdout",
     "output_type": "stream",
     "text": [
      "<class 'pandas.core.frame.DataFrame'>\n",
      "RangeIndex: 4600 entries, 0 to 4599\n",
      "Data columns (total 14 columns):\n",
      " #   Column         Non-Null Count  Dtype  \n",
      "---  ------         --------------  -----  \n",
      " 0   price          4600 non-null   float64\n",
      " 1   bedrooms       4600 non-null   float64\n",
      " 2   bathrooms      4600 non-null   float64\n",
      " 3   sqft_living    4600 non-null   int64  \n",
      " 4   sqft_lot       4600 non-null   int64  \n",
      " 5   floors         4600 non-null   float64\n",
      " 6   waterfront     4600 non-null   int64  \n",
      " 7   view           4600 non-null   int64  \n",
      " 8   condition      4600 non-null   int64  \n",
      " 9   sqft_above     4600 non-null   int64  \n",
      " 10  sqft_basement  4600 non-null   int64  \n",
      " 11  yr_built       4600 non-null   int64  \n",
      " 12  yr_renovated   4600 non-null   int64  \n",
      " 13  city           4600 non-null   object \n",
      "dtypes: float64(4), int64(9), object(1)\n",
      "memory usage: 503.3+ KB\n"
     ]
    }
   ],
   "source": [
    "df.info()"
   ]
  },
  {
   "cell_type": "code",
   "execution_count": 42,
   "metadata": {},
   "outputs": [],
   "source": [
    "features = df.columns"
   ]
  },
  {
   "cell_type": "code",
   "execution_count": 43,
   "metadata": {},
   "outputs": [
    {
     "name": "stdout",
     "output_type": "stream",
     "text": [
      "price\n",
      "Feature price has 1741 unique values and of type float64\n",
      "\n",
      "\n",
      "****************************************************************************************************\n",
      "bedrooms\n",
      "Feature bedrooms has 10 unique values and of type float64\n",
      "\n",
      "\n",
      "****************************************************************************************************\n",
      "bathrooms\n",
      "Feature bathrooms has 26 unique values and of type float64\n",
      "\n",
      "\n",
      "****************************************************************************************************\n",
      "sqft_living\n",
      "Feature sqft_living has 566 unique values and of type int64\n",
      "\n",
      "\n",
      "****************************************************************************************************\n",
      "sqft_lot\n",
      "Feature sqft_lot has 3113 unique values and of type int64\n",
      "\n",
      "\n",
      "****************************************************************************************************\n",
      "floors\n",
      "Feature floors has 6 unique values and of type float64\n",
      "\n",
      "\n",
      "****************************************************************************************************\n",
      "waterfront\n",
      "Feature waterfront has 2 unique values and of type int64\n",
      "\n",
      "\n",
      "****************************************************************************************************\n",
      "view\n",
      "Feature view has 5 unique values and of type int64\n",
      "\n",
      "\n",
      "****************************************************************************************************\n",
      "condition\n",
      "Feature condition has 5 unique values and of type int64\n",
      "\n",
      "\n",
      "****************************************************************************************************\n",
      "sqft_above\n",
      "Feature sqft_above has 511 unique values and of type int64\n",
      "\n",
      "\n",
      "****************************************************************************************************\n",
      "sqft_basement\n",
      "Feature sqft_basement has 207 unique values and of type int64\n",
      "\n",
      "\n",
      "****************************************************************************************************\n",
      "yr_built\n",
      "Feature yr_built has 115 unique values and of type int64\n",
      "\n",
      "\n",
      "****************************************************************************************************\n",
      "yr_renovated\n",
      "Feature yr_renovated has 60 unique values and of type int64\n",
      "\n",
      "\n",
      "****************************************************************************************************\n",
      "city\n",
      "Feature city has 44 unique values and of type object\n",
      "\n",
      "\n",
      "****************************************************************************************************\n"
     ]
    }
   ],
   "source": [
    "for i in features:\n",
    "    print(i)\n",
    "\n",
    "    print(f\"Feature {i} has {len(df[i].unique())} unique values and of type {df[i].dtypes}\")\n",
    "    print(\"\\n\")\n",
    "    print(\"*\"*100)"
   ]
  },
  {
   "cell_type": "code",
   "execution_count": 44,
   "metadata": {},
   "outputs": [
    {
     "data": {
      "text/plain": [
       "Index(['price', 'bedrooms', 'bathrooms', 'sqft_living', 'sqft_lot', 'floors',\n",
       "       'waterfront', 'view', 'condition', 'sqft_above', 'sqft_basement',\n",
       "       'yr_built', 'yr_renovated', 'city'],\n",
       "      dtype='object')"
      ]
     },
     "execution_count": 44,
     "metadata": {},
     "output_type": "execute_result"
    }
   ],
   "source": [
    "features"
   ]
  },
  {
   "cell_type": "code",
   "execution_count": 45,
   "metadata": {},
   "outputs": [],
   "source": [
    "df.drop(labels=['yr_renovated','yr_built'],axis=1,inplace=True)"
   ]
  },
  {
   "cell_type": "code",
   "execution_count": 46,
   "metadata": {},
   "outputs": [
    {
     "name": "stdout",
     "output_type": "stream",
     "text": [
      "<class 'pandas.core.frame.DataFrame'>\n",
      "RangeIndex: 4600 entries, 0 to 4599\n",
      "Data columns (total 12 columns):\n",
      " #   Column         Non-Null Count  Dtype  \n",
      "---  ------         --------------  -----  \n",
      " 0   price          4600 non-null   float64\n",
      " 1   bedrooms       4600 non-null   float64\n",
      " 2   bathrooms      4600 non-null   float64\n",
      " 3   sqft_living    4600 non-null   int64  \n",
      " 4   sqft_lot       4600 non-null   int64  \n",
      " 5   floors         4600 non-null   float64\n",
      " 6   waterfront     4600 non-null   int64  \n",
      " 7   view           4600 non-null   int64  \n",
      " 8   condition      4600 non-null   int64  \n",
      " 9   sqft_above     4600 non-null   int64  \n",
      " 10  sqft_basement  4600 non-null   int64  \n",
      " 11  city           4600 non-null   object \n",
      "dtypes: float64(4), int64(7), object(1)\n",
      "memory usage: 431.4+ KB\n"
     ]
    }
   ],
   "source": [
    "df.info()"
   ]
  },
  {
   "cell_type": "code",
   "execution_count": 47,
   "metadata": {},
   "outputs": [],
   "source": [
    "features = df.columns"
   ]
  },
  {
   "cell_type": "code",
   "execution_count": 48,
   "metadata": {},
   "outputs": [
    {
     "name": "stdout",
     "output_type": "stream",
     "text": [
      "price\n",
      "Feature price has 1741 unique values and of type float64\n",
      "\n",
      "\n",
      "****************************************************************************************************\n",
      "bedrooms\n",
      "Feature bedrooms has 10 unique values and of type float64\n",
      "\n",
      "\n",
      "****************************************************************************************************\n",
      "bathrooms\n",
      "Feature bathrooms has 26 unique values and of type float64\n",
      "\n",
      "\n",
      "****************************************************************************************************\n",
      "sqft_living\n",
      "Feature sqft_living has 566 unique values and of type int64\n",
      "\n",
      "\n",
      "****************************************************************************************************\n",
      "sqft_lot\n",
      "Feature sqft_lot has 3113 unique values and of type int64\n",
      "\n",
      "\n",
      "****************************************************************************************************\n",
      "floors\n",
      "Feature floors has 6 unique values and of type float64\n",
      "\n",
      "\n",
      "****************************************************************************************************\n",
      "waterfront\n",
      "Feature waterfront has 2 unique values and of type int64\n",
      "\n",
      "\n",
      "****************************************************************************************************\n",
      "view\n",
      "Feature view has 5 unique values and of type int64\n",
      "\n",
      "\n",
      "****************************************************************************************************\n",
      "condition\n",
      "Feature condition has 5 unique values and of type int64\n",
      "\n",
      "\n",
      "****************************************************************************************************\n",
      "sqft_above\n",
      "Feature sqft_above has 511 unique values and of type int64\n",
      "\n",
      "\n",
      "****************************************************************************************************\n",
      "sqft_basement\n",
      "Feature sqft_basement has 207 unique values and of type int64\n",
      "\n",
      "\n",
      "****************************************************************************************************\n",
      "city\n",
      "Feature city has 44 unique values and of type object\n",
      "\n",
      "\n",
      "****************************************************************************************************\n"
     ]
    }
   ],
   "source": [
    "for i in features:\n",
    "    print(i)\n",
    "\n",
    "    print(f\"Feature {i} has {len(df[i].unique())} unique values and of type {df[i].dtypes}\")\n",
    "    print(\"\\n\")\n",
    "    print(\"*\"*100)"
   ]
  },
  {
   "cell_type": "code",
   "execution_count": 49,
   "metadata": {},
   "outputs": [],
   "source": [
    "df.drop_duplicates(inplace=True)"
   ]
  },
  {
   "cell_type": "code",
   "execution_count": 50,
   "metadata": {},
   "outputs": [
    {
     "name": "stdout",
     "output_type": "stream",
     "text": [
      "<class 'pandas.core.frame.DataFrame'>\n",
      "RangeIndex: 4600 entries, 0 to 4599\n",
      "Data columns (total 12 columns):\n",
      " #   Column         Non-Null Count  Dtype  \n",
      "---  ------         --------------  -----  \n",
      " 0   price          4600 non-null   float64\n",
      " 1   bedrooms       4600 non-null   float64\n",
      " 2   bathrooms      4600 non-null   float64\n",
      " 3   sqft_living    4600 non-null   int64  \n",
      " 4   sqft_lot       4600 non-null   int64  \n",
      " 5   floors         4600 non-null   float64\n",
      " 6   waterfront     4600 non-null   int64  \n",
      " 7   view           4600 non-null   int64  \n",
      " 8   condition      4600 non-null   int64  \n",
      " 9   sqft_above     4600 non-null   int64  \n",
      " 10  sqft_basement  4600 non-null   int64  \n",
      " 11  city           4600 non-null   object \n",
      "dtypes: float64(4), int64(7), object(1)\n",
      "memory usage: 431.4+ KB\n"
     ]
    }
   ],
   "source": [
    "df.info()"
   ]
  },
  {
   "cell_type": "code",
   "execution_count": 51,
   "metadata": {},
   "outputs": [],
   "source": [
    "import pandas as pd\n",
    "import numpy as np\n",
    "from handle_categorical_features import *\n",
    "df = pd.read_csv('/home/iqube/Downloads/data.xls')\n",
    "features = df.columns.to_list()\n",
    "categorical_features = [feature for feature in features if len(df[feature].unique()) <= 50]"
   ]
  },
  {
   "cell_type": "code",
   "execution_count": 52,
   "metadata": {},
   "outputs": [
    {
     "name": "stdout",
     "output_type": "stream",
     "text": [
      "____________________________________________________________________________________________________\n",
      "\n",
      "\n",
      "Feature bedrooms:\n",
      "3.0\n",
      "5.0\n",
      "4.0\n",
      "2.0\n",
      "6.0\n",
      "7.0\n",
      "9.0\n",
      "1.0\n",
      "8.0\n",
      "0.0\n",
      "____________________________________________________________________________________________________\n",
      "\n",
      "\n",
      "Feature bathrooms:\n",
      "1.5\n",
      "2.5\n",
      "2.0\n",
      "2.25\n",
      "1.0\n",
      "1.75\n",
      "2.75\n",
      "3.0\n",
      "3.25\n",
      "3.5\n",
      "8.0\n",
      "4.25\n",
      "4.0\n",
      "3.75\n",
      "5.0\n",
      "4.5\n",
      "5.75\n",
      "1.25\n",
      "6.5\n",
      "4.75\n",
      "0.75\n",
      "5.25\n",
      "5.5\n",
      "6.25\n",
      "0.0\n",
      "6.75\n",
      "____________________________________________________________________________________________________\n",
      "\n",
      "\n",
      "Feature floors:\n",
      "1.5\n",
      "2.0\n",
      "1.0\n",
      "2.5\n",
      "3.0\n",
      "3.5\n",
      "____________________________________________________________________________________________________\n",
      "\n",
      "\n",
      "Feature waterfront:\n",
      "0\n",
      "1\n",
      "____________________________________________________________________________________________________\n",
      "\n",
      "\n",
      "Feature view:\n",
      "0\n",
      "4\n",
      "1\n",
      "2\n",
      "3\n",
      "____________________________________________________________________________________________________\n",
      "\n",
      "\n",
      "Feature condition:\n",
      "3\n",
      "5\n",
      "4\n",
      "2\n",
      "1\n",
      "____________________________________________________________________________________________________\n",
      "\n",
      "\n",
      "Feature city:\n",
      "Shoreline\n",
      "Seattle\n",
      "Kent\n",
      "Bellevue\n",
      "Redmond\n",
      "Maple Valley\n",
      "North Bend\n",
      "Lake Forest Park\n",
      "Sammamish\n",
      "Auburn\n",
      "Des Moines\n",
      "Bothell\n",
      "Federal Way\n",
      "Kirkland\n",
      "Issaquah\n",
      "Woodinville\n",
      "Normandy Park\n",
      "Fall City\n",
      "Renton\n",
      "Carnation\n",
      "Snoqualmie\n",
      "Duvall\n",
      "Burien\n",
      "Covington\n",
      "Inglewood-Finn Hill\n",
      "Kenmore\n",
      "Newcastle\n",
      "Mercer Island\n",
      "Black Diamond\n",
      "Ravensdale\n",
      "Clyde Hill\n",
      "Algona\n",
      "Skykomish\n",
      "Tukwila\n",
      "Vashon\n",
      "Yarrow Point\n",
      "SeaTac\n",
      "Medina\n",
      "Enumclaw\n",
      "Snoqualmie Pass\n",
      "Pacific\n",
      "Beaux Arts Village\n",
      "Preston\n",
      "Milton\n",
      "____________________________________________________________________________________________________\n",
      "\n",
      "\n",
      "Feature country:\n",
      "USA\n"
     ]
    }
   ],
   "source": [
    "for i in categorical_features:\n",
    "\n",
    "\n",
    "    print(\"_\"* 100)\n",
    "    print(\"\\n\")\n",
    "    print(f\"Feature { i }:\")\n",
    "    for j in df[i].unique():\n",
    "        print(j,end='\\n')"
   ]
  },
  {
   "cell_type": "code",
   "execution_count": 53,
   "metadata": {},
   "outputs": [
    {
     "name": "stdout",
     "output_type": "stream",
     "text": [
      "____________________________________________________________________________________________________\n",
      "\n",
      "\n",
      "Feature bedrooms:\n",
      "bedrooms\n",
      "3.0    2032\n",
      "4.0    1531\n",
      "2.0     566\n",
      "5.0     353\n",
      "6.0      61\n",
      "1.0      38\n",
      "7.0      14\n",
      "8.0       2\n",
      "0.0       2\n",
      "9.0       1\n",
      "Name: count, dtype: int64\n",
      "____________________________________________________________________________________________________\n",
      "\n",
      "\n",
      "Feature bathrooms:\n",
      "bathrooms\n",
      "2.50    1189\n",
      "1.00     743\n",
      "1.75     629\n",
      "2.00     427\n",
      "2.25     419\n",
      "1.50     291\n",
      "2.75     276\n",
      "3.00     167\n",
      "3.50     162\n",
      "3.25     136\n",
      "3.75      37\n",
      "4.50      29\n",
      "4.25      23\n",
      "4.00      23\n",
      "0.75      17\n",
      "4.75       7\n",
      "5.00       6\n",
      "5.25       4\n",
      "5.50       4\n",
      "1.25       3\n",
      "6.25       2\n",
      "0.00       2\n",
      "8.00       1\n",
      "5.75       1\n",
      "6.50       1\n",
      "6.75       1\n",
      "Name: count, dtype: int64\n",
      "____________________________________________________________________________________________________\n",
      "\n",
      "\n",
      "Feature floors:\n",
      "floors\n",
      "1.0    2174\n",
      "2.0    1811\n",
      "1.5     444\n",
      "3.0     128\n",
      "2.5      41\n",
      "3.5       2\n",
      "Name: count, dtype: int64\n",
      "____________________________________________________________________________________________________\n",
      "\n",
      "\n",
      "Feature waterfront:\n",
      "waterfront\n",
      "0    4567\n",
      "1      33\n",
      "Name: count, dtype: int64\n",
      "____________________________________________________________________________________________________\n",
      "\n",
      "\n",
      "Feature view:\n",
      "view\n",
      "0    4140\n",
      "2     205\n",
      "3     116\n",
      "4      70\n",
      "1      69\n",
      "Name: count, dtype: int64\n",
      "____________________________________________________________________________________________________\n",
      "\n",
      "\n",
      "Feature condition:\n",
      "condition\n",
      "3    2875\n",
      "4    1252\n",
      "5     435\n",
      "2      32\n",
      "1       6\n",
      "Name: count, dtype: int64\n",
      "____________________________________________________________________________________________________\n",
      "\n",
      "\n",
      "Feature city:\n",
      "city\n",
      "Seattle                1573\n",
      "Renton                  293\n",
      "Bellevue                286\n",
      "Redmond                 235\n",
      "Issaquah                187\n",
      "Kirkland                187\n",
      "Kent                    185\n",
      "Auburn                  176\n",
      "Sammamish               175\n",
      "Federal Way             148\n",
      "Shoreline               123\n",
      "Woodinville             115\n",
      "Maple Valley             96\n",
      "Mercer Island            86\n",
      "Burien                   74\n",
      "Snoqualmie               71\n",
      "Kenmore                  66\n",
      "Des Moines               58\n",
      "North Bend               50\n",
      "Covington                43\n",
      "Duvall                   42\n",
      "Lake Forest Park         36\n",
      "Bothell                  33\n",
      "Newcastle                33\n",
      "SeaTac                   29\n",
      "Tukwila                  29\n",
      "Vashon                   29\n",
      "Enumclaw                 28\n",
      "Carnation                22\n",
      "Normandy Park            18\n",
      "Clyde Hill               11\n",
      "Medina                   11\n",
      "Fall City                11\n",
      "Black Diamond             9\n",
      "Ravensdale                7\n",
      "Pacific                   6\n",
      "Algona                    5\n",
      "Yarrow Point              4\n",
      "Skykomish                 3\n",
      "Preston                   2\n",
      "Milton                    2\n",
      "Inglewood-Finn Hill       1\n",
      "Snoqualmie Pass           1\n",
      "Beaux Arts Village        1\n",
      "Name: count, dtype: int64\n",
      "____________________________________________________________________________________________________\n",
      "\n",
      "\n",
      "Feature country:\n",
      "country\n",
      "USA    4600\n",
      "Name: count, dtype: int64\n"
     ]
    }
   ],
   "source": [
    "for i in categorical_features:\n",
    "\n",
    "\n",
    "    print(\"_\"* 100)\n",
    "    print(\"\\n\")\n",
    "    print(f\"Feature { i }:\")\n",
    "    print(df[i].value_counts())\n",
    "    "
   ]
  },
  {
   "cell_type": "code",
   "execution_count": null,
   "metadata": {},
   "outputs": [],
   "source": []
  },
  {
   "cell_type": "code",
   "execution_count": 54,
   "metadata": {},
   "outputs": [],
   "source": [
    "from sklearn.linear_model import LinearRegression\n",
    "model = LinearRegression()"
   ]
  },
  {
   "cell_type": "code",
   "execution_count": 55,
   "metadata": {},
   "outputs": [
    {
     "name": "stdout",
     "output_type": "stream",
     "text": [
      "The frequency of class '3' in feature 'bedrooms' is: 2032\n"
     ]
    }
   ],
   "source": [
    "feature = 'bedrooms'\n",
    "class_to_count = 3\n",
    "\n",
    "# Count occurrences of each class\n",
    "class_counts = df[feature].value_counts()\n",
    "\n",
    "# Get frequency of the specific class\n",
    "class_frequency = class_counts.get(class_to_count, 0)\n",
    "\n",
    "print(f\"The frequency of class '{class_to_count}' in feature '{feature}' is: {class_frequency}\")"
   ]
  },
  {
   "cell_type": "code",
   "execution_count": 56,
   "metadata": {},
   "outputs": [],
   "source": [
    "vc = df['bedrooms'].value_counts()"
   ]
  },
  {
   "cell_type": "code",
   "execution_count": 57,
   "metadata": {},
   "outputs": [
    {
     "data": {
      "text/plain": [
       "bedrooms\n",
       "3.0    2032\n",
       "4.0    1531\n",
       "2.0     566\n",
       "5.0     353\n",
       "6.0      61\n",
       "1.0      38\n",
       "7.0      14\n",
       "8.0       2\n",
       "0.0       2\n",
       "9.0       1\n",
       "Name: count, dtype: int64"
      ]
     },
     "execution_count": 57,
     "metadata": {},
     "output_type": "execute_result"
    }
   ],
   "source": [
    "vc"
   ]
  },
  {
   "cell_type": "code",
   "execution_count": 58,
   "metadata": {},
   "outputs": [
    {
     "data": {
      "text/plain": [
       "bedrooms\n",
       "3.0    2032\n",
       "4.0    1531\n",
       "2.0     566\n",
       "5.0     353\n",
       "6.0      61\n",
       "1.0      38\n",
       "7.0      14\n",
       "8.0       2\n",
       "0.0       2\n",
       "9.0       1\n",
       "Name: count, dtype: int64"
      ]
     },
     "execution_count": 58,
     "metadata": {},
     "output_type": "execute_result"
    }
   ],
   "source": [
    "(vc)"
   ]
  },
  {
   "cell_type": "code",
   "execution_count": 59,
   "metadata": {},
   "outputs": [],
   "source": [
    "def check_class_frequency(dataframe,feature):\n",
    "\n",
    "    class_counts = dataframe[feature].value_counts()\n",
    "    class_to_count = dataframe[feature].unique()\n",
    "    class_with_low_frequency = []\n",
    "\n",
    "\n",
    "\n",
    "    for i in class_to_count:\n",
    "        \n",
    "        class_frequency = class_counts.get(i, 0)\n",
    "        l = len(dataframe)\n",
    "        \n",
    "        if class_frequency > (0.005 * l):\n",
    "            \n",
    "            class_with_low_frequency.append(i)\n",
    "            \n",
    "    return class_with_low_frequency"
   ]
  },
  {
   "cell_type": "code",
   "execution_count": 60,
   "metadata": {},
   "outputs": [
    {
     "name": "stdout",
     "output_type": "stream",
     "text": [
      "[3.0, 5.0, 4.0, 2.0, 6.0, 1.0]\n",
      "[1.5, 2.5, 2.0, 2.25, 1.0, 1.75, 2.75, 3.0, 3.25, 3.5, 3.75, 4.5]\n",
      "[1.5, 2.0, 1.0, 2.5, 3.0]\n",
      "[0, 1]\n",
      "[0, 4, 1, 2, 3]\n",
      "[3, 5, 4, 2]\n",
      "['Shoreline', 'Seattle', 'Kent', 'Bellevue', 'Redmond', 'Maple Valley', 'North Bend', 'Lake Forest Park', 'Sammamish', 'Auburn', 'Des Moines', 'Bothell', 'Federal Way', 'Kirkland', 'Issaquah', 'Woodinville', 'Renton', 'Snoqualmie', 'Duvall', 'Burien', 'Covington', 'Kenmore', 'Newcastle', 'Mercer Island', 'Tukwila', 'Vashon', 'SeaTac', 'Enumclaw']\n",
      "['USA']\n"
     ]
    }
   ],
   "source": [
    "for i in categorical_features:\n",
    "\n",
    "    l = check_class_frequency(df,i)\n",
    "    print(l)"
   ]
  },
  {
   "cell_type": "code",
   "execution_count": 61,
   "metadata": {},
   "outputs": [
    {
     "data": {
      "text/plain": [
       "['USA']"
      ]
     },
     "execution_count": 61,
     "metadata": {},
     "output_type": "execute_result"
    }
   ],
   "source": [
    "l"
   ]
  },
  {
   "cell_type": "code",
   "execution_count": 62,
   "metadata": {},
   "outputs": [],
   "source": [
    "def check_class_frequency(dataframe,feature):\n",
    "\n",
    "    class_counts = dataframe[feature].value_counts()\n",
    "    class_to_count = dataframe[feature].unique()\n",
    "    class_with_high_frequency = []\n",
    "\n",
    "\n",
    "\n",
    "    for i in class_to_count:\n",
    "        \n",
    "        class_frequency = class_counts.get(i, 0)\n",
    "        l = len(dataframe)\n",
    "        \n",
    "        if class_frequency > (0.005 * l):\n",
    "            \n",
    "            class_with_high_frequency.append(i)\n",
    "    return class_with_high_frequency"
   ]
  },
  {
   "cell_type": "code",
   "execution_count": 63,
   "metadata": {},
   "outputs": [],
   "source": [
    "def create_rare_class(dataframe , feature, classes_with_high_frequency):\n",
    "\n",
    "    c = tuple(zip(classes_with_high_frequency,classes_with_high_frequency))\n",
    "    d = dict(c)\n",
    "    print(d)\n",
    "    dataframe[feature] = dataframe[feature].map(d)\n",
    "    dataframe[feature].fillna(value = 'Rare', inplace = True)\n",
    "    return dataframe[feature]"
   ]
  },
  {
   "cell_type": "code",
   "execution_count": 64,
   "metadata": {},
   "outputs": [],
   "source": [
    "l = check_class_frequency(df,'bedrooms')"
   ]
  },
  {
   "cell_type": "code",
   "execution_count": 65,
   "metadata": {},
   "outputs": [
    {
     "data": {
      "text/plain": [
       "[3.0, 5.0, 4.0, 2.0, 6.0, 1.0]"
      ]
     },
     "execution_count": 65,
     "metadata": {},
     "output_type": "execute_result"
    }
   ],
   "source": [
    "l"
   ]
  },
  {
   "cell_type": "code",
   "execution_count": 66,
   "metadata": {},
   "outputs": [
    {
     "name": "stdout",
     "output_type": "stream",
     "text": [
      "{3.0: 3.0, 5.0: 5.0, 4.0: 4.0, 2.0: 2.0, 6.0: 6.0, 1.0: 1.0}\n"
     ]
    },
    {
     "name": "stderr",
     "output_type": "stream",
     "text": [
      "/tmp/ipykernel_5466/242768182.py:7: FutureWarning: Setting an item of incompatible dtype is deprecated and will raise in a future error of pandas. Value 'Rare' has dtype incompatible with float64, please explicitly cast to a compatible dtype first.\n",
      "  dataframe[feature].fillna(value = 'Rare', inplace = True)\n"
     ]
    }
   ],
   "source": [
    "df['bedrooms'] = create_rare_class(df,'bedrooms',l)"
   ]
  },
  {
   "cell_type": "code",
   "execution_count": null,
   "metadata": {},
   "outputs": [],
   "source": []
  },
  {
   "cell_type": "code",
   "execution_count": 67,
   "metadata": {},
   "outputs": [
    {
     "data": {
      "text/plain": [
       "bedrooms\n",
       "3.0     2032\n",
       "4.0     1531\n",
       "2.0      566\n",
       "5.0      353\n",
       "6.0       61\n",
       "1.0       38\n",
       "Rare      19\n",
       "Name: count, dtype: int64"
      ]
     },
     "execution_count": 67,
     "metadata": {},
     "output_type": "execute_result"
    }
   ],
   "source": [
    "df['bedrooms'].value_counts()"
   ]
  },
  {
   "cell_type": "code",
   "execution_count": 68,
   "metadata": {},
   "outputs": [
    {
     "data": {
      "text/plain": [
       "array([3.0, 5.0, 4.0, 2.0, 6.0, 'Rare', 1.0], dtype=object)"
      ]
     },
     "execution_count": 68,
     "metadata": {},
     "output_type": "execute_result"
    }
   ],
   "source": [
    "df['bedrooms'].unique()"
   ]
  },
  {
   "cell_type": "code",
   "execution_count": 69,
   "metadata": {},
   "outputs": [
    {
     "data": {
      "text/plain": [
       "0"
      ]
     },
     "execution_count": 69,
     "metadata": {},
     "output_type": "execute_result"
    }
   ],
   "source": [
    "df['bedrooms'].isnull().sum()\n"
   ]
  },
  {
   "cell_type": "code",
   "execution_count": 70,
   "metadata": {},
   "outputs": [
    {
     "data": {
      "text/plain": [
       "['bedrooms',\n",
       " 'bathrooms',\n",
       " 'floors',\n",
       " 'waterfront',\n",
       " 'view',\n",
       " 'condition',\n",
       " 'city',\n",
       " 'country']"
      ]
     },
     "execution_count": 70,
     "metadata": {},
     "output_type": "execute_result"
    }
   ],
   "source": [
    "categorical_features"
   ]
  },
  {
   "cell_type": "code",
   "execution_count": 71,
   "metadata": {},
   "outputs": [
    {
     "data": {
      "text/plain": [
       "bedrooms      0\n",
       "bathrooms     0\n",
       "floors        0\n",
       "waterfront    0\n",
       "view          0\n",
       "condition     0\n",
       "city          0\n",
       "country       0\n",
       "dtype: int64"
      ]
     },
     "execution_count": 71,
     "metadata": {},
     "output_type": "execute_result"
    }
   ],
   "source": [
    "df2 = df[categorical_features]\n",
    "df2.isnull().sum()"
   ]
  },
  {
   "cell_type": "code",
   "execution_count": 97,
   "metadata": {},
   "outputs": [
    {
     "name": "stdout",
     "output_type": "stream",
     "text": [
      "Original DataFrame:\n"
     ]
    },
    {
     "data": {
      "text/html": [
       "<div>\n",
       "<style scoped>\n",
       "    .dataframe tbody tr th:only-of-type {\n",
       "        vertical-align: middle;\n",
       "    }\n",
       "\n",
       "    .dataframe tbody tr th {\n",
       "        vertical-align: top;\n",
       "    }\n",
       "\n",
       "    .dataframe thead th {\n",
       "        text-align: right;\n",
       "    }\n",
       "</style>\n",
       "<table border=\"1\" class=\"dataframe\">\n",
       "  <thead>\n",
       "    <tr style=\"text-align: right;\">\n",
       "      <th></th>\n",
       "      <th>Category</th>\n",
       "      <th>Value</th>\n",
       "      <th>Other</th>\n",
       "    </tr>\n",
       "  </thead>\n",
       "  <tbody>\n",
       "    <tr>\n",
       "      <th>0</th>\n",
       "      <td>A</td>\n",
       "      <td>10.0</td>\n",
       "      <td>X</td>\n",
       "    </tr>\n",
       "    <tr>\n",
       "      <th>1</th>\n",
       "      <td>B</td>\n",
       "      <td>20.0</td>\n",
       "      <td>Y</td>\n",
       "    </tr>\n",
       "    <tr>\n",
       "      <th>2</th>\n",
       "      <td>C</td>\n",
       "      <td>NaN</td>\n",
       "      <td>Z</td>\n",
       "    </tr>\n",
       "    <tr>\n",
       "      <th>3</th>\n",
       "      <td>A</td>\n",
       "      <td>30.0</td>\n",
       "      <td>X</td>\n",
       "    </tr>\n",
       "    <tr>\n",
       "      <th>4</th>\n",
       "      <td>B</td>\n",
       "      <td>40.0</td>\n",
       "      <td>Y</td>\n",
       "    </tr>\n",
       "    <tr>\n",
       "      <th>5</th>\n",
       "      <td>C</td>\n",
       "      <td>50.0</td>\n",
       "      <td>Z</td>\n",
       "    </tr>\n",
       "    <tr>\n",
       "      <th>6</th>\n",
       "      <td>A</td>\n",
       "      <td>NaN</td>\n",
       "      <td>X</td>\n",
       "    </tr>\n",
       "    <tr>\n",
       "      <th>7</th>\n",
       "      <td>B</td>\n",
       "      <td>60.0</td>\n",
       "      <td>Y</td>\n",
       "    </tr>\n",
       "    <tr>\n",
       "      <th>8</th>\n",
       "      <td>C</td>\n",
       "      <td>70.0</td>\n",
       "      <td>Z</td>\n",
       "    </tr>\n",
       "    <tr>\n",
       "      <th>9</th>\n",
       "      <td>NaN</td>\n",
       "      <td>80.0</td>\n",
       "      <td>X</td>\n",
       "    </tr>\n",
       "  </tbody>\n",
       "</table>\n",
       "</div>"
      ],
      "text/plain": [
       "  Category  Value Other\n",
       "0        A   10.0     X\n",
       "1        B   20.0     Y\n",
       "2        C    NaN     Z\n",
       "3        A   30.0     X\n",
       "4        B   40.0     Y\n",
       "5        C   50.0     Z\n",
       "6        A    NaN     X\n",
       "7        B   60.0     Y\n",
       "8        C   70.0     Z\n",
       "9      NaN   80.0     X"
      ]
     },
     "execution_count": 97,
     "metadata": {},
     "output_type": "execute_result"
    }
   ],
   "source": [
    "import pandas as pd\n",
    "import numpy as np\n",
    "from handle_categorical_features import *\n",
    "# Create a sample DataFrame\n",
    "data = {\n",
    "    'Category': ['A', 'B', 'C', 'A', 'B', 'C', 'A', 'B', 'C', np.nan],\n",
    "    'Value': [10, 20, np.nan, 30, 40, 50, np.nan, 60, 70, 80],\n",
    "    'Other': ['X', 'Y', 'Z', 'X', 'Y', 'Z', 'X', 'Y', 'Z', 'X']\n",
    "}\n",
    "\n",
    "df = pd.DataFrame(data)\n",
    "\n",
    "# Print the DataFrame\n",
    "print(\"Original DataFrame:\")\n",
    "\n",
    "features = df.columns.to_list()\n",
    "categorical_features = [feature for feature in features if len(df[feature].unique()) <= 50]\n",
    "df"
   ]
  },
  {
   "cell_type": "code",
   "execution_count": 73,
   "metadata": {},
   "outputs": [
    {
     "name": "stdout",
     "output_type": "stream",
     "text": [
      "Before\n",
      "0      A\n",
      "1      B\n",
      "2      C\n",
      "3      A\n",
      "4      B\n",
      "5      C\n",
      "6      A\n",
      "7      B\n",
      "8      C\n",
      "9    NaN\n",
      "Name: Category, dtype: object\n",
      "Filled null values of feature Category with class 'A'\n",
      "After\n",
      "0    A\n",
      "1    B\n",
      "2    C\n",
      "3    A\n",
      "4    B\n",
      "5    C\n",
      "6    A\n",
      "7    B\n",
      "8    C\n",
      "9    A\n",
      "Name: Category, dtype: object\n",
      "{'A': 'A', 'B': 'B', 'C': 'C'}\n",
      "Before\n",
      "0    10.0\n",
      "1    20.0\n",
      "2     NaN\n",
      "3    30.0\n",
      "4    40.0\n",
      "5    50.0\n",
      "6     NaN\n",
      "7    60.0\n",
      "8    70.0\n",
      "9    80.0\n",
      "Name: Value, dtype: float64\n",
      "Filled null values of feature Value with class '10.0'\n",
      "After\n",
      "0    10.0\n",
      "1    20.0\n",
      "2    10.0\n",
      "3    30.0\n",
      "4    40.0\n",
      "5    50.0\n",
      "6    10.0\n",
      "7    60.0\n",
      "8    70.0\n",
      "9    80.0\n",
      "Name: Value, dtype: float64\n",
      "{10.0: 10.0, 20.0: 20.0, 30.0: 30.0, 40.0: 40.0, 50.0: 50.0, 60.0: 60.0, 70.0: 70.0, 80.0: 80.0}\n",
      "Before\n",
      "0    X\n",
      "1    Y\n",
      "2    Z\n",
      "3    X\n",
      "4    Y\n",
      "5    Z\n",
      "6    X\n",
      "7    Y\n",
      "8    Z\n",
      "9    X\n",
      "Name: Other, dtype: object\n",
      "Filled null values of feature Other with class 'X'\n",
      "After\n",
      "0    X\n",
      "1    Y\n",
      "2    Z\n",
      "3    X\n",
      "4    Y\n",
      "5    Z\n",
      "6    X\n",
      "7    Y\n",
      "8    Z\n",
      "9    X\n",
      "Name: Other, dtype: object\n",
      "{'X': 'X', 'Y': 'Y', 'Z': 'Z'}\n"
     ]
    }
   ],
   "source": [
    "start_categorical_feature_preprocessing(df,categorical_features)"
   ]
  },
  {
   "cell_type": "code",
   "execution_count": 74,
   "metadata": {},
   "outputs": [
    {
     "data": {
      "text/html": [
       "<div>\n",
       "<style scoped>\n",
       "    .dataframe tbody tr th:only-of-type {\n",
       "        vertical-align: middle;\n",
       "    }\n",
       "\n",
       "    .dataframe tbody tr th {\n",
       "        vertical-align: top;\n",
       "    }\n",
       "\n",
       "    .dataframe thead th {\n",
       "        text-align: right;\n",
       "    }\n",
       "</style>\n",
       "<table border=\"1\" class=\"dataframe\">\n",
       "  <thead>\n",
       "    <tr style=\"text-align: right;\">\n",
       "      <th></th>\n",
       "      <th>Category</th>\n",
       "      <th>Value</th>\n",
       "      <th>Other</th>\n",
       "    </tr>\n",
       "  </thead>\n",
       "  <tbody>\n",
       "    <tr>\n",
       "      <th>0</th>\n",
       "      <td>0</td>\n",
       "      <td>0</td>\n",
       "      <td>0</td>\n",
       "    </tr>\n",
       "    <tr>\n",
       "      <th>1</th>\n",
       "      <td>1</td>\n",
       "      <td>1</td>\n",
       "      <td>1</td>\n",
       "    </tr>\n",
       "    <tr>\n",
       "      <th>2</th>\n",
       "      <td>2</td>\n",
       "      <td>0</td>\n",
       "      <td>2</td>\n",
       "    </tr>\n",
       "    <tr>\n",
       "      <th>3</th>\n",
       "      <td>0</td>\n",
       "      <td>2</td>\n",
       "      <td>0</td>\n",
       "    </tr>\n",
       "    <tr>\n",
       "      <th>4</th>\n",
       "      <td>1</td>\n",
       "      <td>3</td>\n",
       "      <td>1</td>\n",
       "    </tr>\n",
       "    <tr>\n",
       "      <th>5</th>\n",
       "      <td>2</td>\n",
       "      <td>4</td>\n",
       "      <td>2</td>\n",
       "    </tr>\n",
       "    <tr>\n",
       "      <th>6</th>\n",
       "      <td>0</td>\n",
       "      <td>0</td>\n",
       "      <td>0</td>\n",
       "    </tr>\n",
       "    <tr>\n",
       "      <th>7</th>\n",
       "      <td>1</td>\n",
       "      <td>5</td>\n",
       "      <td>1</td>\n",
       "    </tr>\n",
       "    <tr>\n",
       "      <th>8</th>\n",
       "      <td>2</td>\n",
       "      <td>6</td>\n",
       "      <td>2</td>\n",
       "    </tr>\n",
       "    <tr>\n",
       "      <th>9</th>\n",
       "      <td>0</td>\n",
       "      <td>7</td>\n",
       "      <td>0</td>\n",
       "    </tr>\n",
       "  </tbody>\n",
       "</table>\n",
       "</div>"
      ],
      "text/plain": [
       "   Category  Value  Other\n",
       "0         0      0      0\n",
       "1         1      1      1\n",
       "2         2      0      2\n",
       "3         0      2      0\n",
       "4         1      3      1\n",
       "5         2      4      2\n",
       "6         0      0      0\n",
       "7         1      5      1\n",
       "8         2      6      2\n",
       "9         0      7      0"
      ]
     },
     "execution_count": 74,
     "metadata": {},
     "output_type": "execute_result"
    }
   ],
   "source": [
    "get_global_dataframe()"
   ]
  },
  {
   "cell_type": "code",
   "execution_count": 75,
   "metadata": {},
   "outputs": [
    {
     "data": {
      "text/plain": [
       "0    0\n",
       "1    1\n",
       "2    0\n",
       "3    2\n",
       "4    3\n",
       "5    4\n",
       "6    0\n",
       "7    5\n",
       "8    6\n",
       "9    7\n",
       "Name: Value, dtype: int64"
      ]
     },
     "execution_count": 75,
     "metadata": {},
     "output_type": "execute_result"
    }
   ],
   "source": [
    "df['Value']"
   ]
  },
  {
   "cell_type": "code",
   "execution_count": 76,
   "metadata": {},
   "outputs": [
    {
     "data": {
      "text/html": [
       "<div>\n",
       "<style scoped>\n",
       "    .dataframe tbody tr th:only-of-type {\n",
       "        vertical-align: middle;\n",
       "    }\n",
       "\n",
       "    .dataframe tbody tr th {\n",
       "        vertical-align: top;\n",
       "    }\n",
       "\n",
       "    .dataframe thead th {\n",
       "        text-align: right;\n",
       "    }\n",
       "</style>\n",
       "<table border=\"1\" class=\"dataframe\">\n",
       "  <thead>\n",
       "    <tr style=\"text-align: right;\">\n",
       "      <th></th>\n",
       "      <th>Category</th>\n",
       "      <th>Value</th>\n",
       "      <th>Other</th>\n",
       "    </tr>\n",
       "  </thead>\n",
       "  <tbody>\n",
       "    <tr>\n",
       "      <th>0</th>\n",
       "      <td>0</td>\n",
       "      <td>0</td>\n",
       "      <td>0</td>\n",
       "    </tr>\n",
       "    <tr>\n",
       "      <th>1</th>\n",
       "      <td>1</td>\n",
       "      <td>1</td>\n",
       "      <td>1</td>\n",
       "    </tr>\n",
       "    <tr>\n",
       "      <th>2</th>\n",
       "      <td>2</td>\n",
       "      <td>0</td>\n",
       "      <td>2</td>\n",
       "    </tr>\n",
       "    <tr>\n",
       "      <th>3</th>\n",
       "      <td>0</td>\n",
       "      <td>2</td>\n",
       "      <td>0</td>\n",
       "    </tr>\n",
       "    <tr>\n",
       "      <th>4</th>\n",
       "      <td>1</td>\n",
       "      <td>3</td>\n",
       "      <td>1</td>\n",
       "    </tr>\n",
       "    <tr>\n",
       "      <th>5</th>\n",
       "      <td>2</td>\n",
       "      <td>4</td>\n",
       "      <td>2</td>\n",
       "    </tr>\n",
       "    <tr>\n",
       "      <th>6</th>\n",
       "      <td>0</td>\n",
       "      <td>0</td>\n",
       "      <td>0</td>\n",
       "    </tr>\n",
       "    <tr>\n",
       "      <th>7</th>\n",
       "      <td>1</td>\n",
       "      <td>5</td>\n",
       "      <td>1</td>\n",
       "    </tr>\n",
       "    <tr>\n",
       "      <th>8</th>\n",
       "      <td>2</td>\n",
       "      <td>6</td>\n",
       "      <td>2</td>\n",
       "    </tr>\n",
       "    <tr>\n",
       "      <th>9</th>\n",
       "      <td>0</td>\n",
       "      <td>7</td>\n",
       "      <td>0</td>\n",
       "    </tr>\n",
       "  </tbody>\n",
       "</table>\n",
       "</div>"
      ],
      "text/plain": [
       "   Category  Value  Other\n",
       "0         0      0      0\n",
       "1         1      1      1\n",
       "2         2      0      2\n",
       "3         0      2      0\n",
       "4         1      3      1\n",
       "5         2      4      2\n",
       "6         0      0      0\n",
       "7         1      5      1\n",
       "8         2      6      2\n",
       "9         0      7      0"
      ]
     },
     "execution_count": 76,
     "metadata": {},
     "output_type": "execute_result"
    }
   ],
   "source": [
    "df"
   ]
  },
  {
   "cell_type": "code",
   "execution_count": 77,
   "metadata": {},
   "outputs": [
    {
     "data": {
      "text/html": [
       "<div>\n",
       "<style scoped>\n",
       "    .dataframe tbody tr th:only-of-type {\n",
       "        vertical-align: middle;\n",
       "    }\n",
       "\n",
       "    .dataframe tbody tr th {\n",
       "        vertical-align: top;\n",
       "    }\n",
       "\n",
       "    .dataframe thead th {\n",
       "        text-align: right;\n",
       "    }\n",
       "</style>\n",
       "<table border=\"1\" class=\"dataframe\">\n",
       "  <thead>\n",
       "    <tr style=\"text-align: right;\">\n",
       "      <th></th>\n",
       "      <th>Category</th>\n",
       "      <th>Value</th>\n",
       "      <th>Other</th>\n",
       "    </tr>\n",
       "  </thead>\n",
       "  <tbody>\n",
       "    <tr>\n",
       "      <th>0</th>\n",
       "      <td>0</td>\n",
       "      <td>0</td>\n",
       "      <td>0</td>\n",
       "    </tr>\n",
       "    <tr>\n",
       "      <th>1</th>\n",
       "      <td>1</td>\n",
       "      <td>1</td>\n",
       "      <td>1</td>\n",
       "    </tr>\n",
       "    <tr>\n",
       "      <th>2</th>\n",
       "      <td>2</td>\n",
       "      <td>0</td>\n",
       "      <td>2</td>\n",
       "    </tr>\n",
       "    <tr>\n",
       "      <th>3</th>\n",
       "      <td>0</td>\n",
       "      <td>2</td>\n",
       "      <td>0</td>\n",
       "    </tr>\n",
       "    <tr>\n",
       "      <th>4</th>\n",
       "      <td>1</td>\n",
       "      <td>3</td>\n",
       "      <td>1</td>\n",
       "    </tr>\n",
       "    <tr>\n",
       "      <th>5</th>\n",
       "      <td>2</td>\n",
       "      <td>4</td>\n",
       "      <td>2</td>\n",
       "    </tr>\n",
       "    <tr>\n",
       "      <th>6</th>\n",
       "      <td>0</td>\n",
       "      <td>0</td>\n",
       "      <td>0</td>\n",
       "    </tr>\n",
       "    <tr>\n",
       "      <th>7</th>\n",
       "      <td>1</td>\n",
       "      <td>5</td>\n",
       "      <td>1</td>\n",
       "    </tr>\n",
       "    <tr>\n",
       "      <th>8</th>\n",
       "      <td>2</td>\n",
       "      <td>6</td>\n",
       "      <td>2</td>\n",
       "    </tr>\n",
       "    <tr>\n",
       "      <th>9</th>\n",
       "      <td>0</td>\n",
       "      <td>7</td>\n",
       "      <td>0</td>\n",
       "    </tr>\n",
       "  </tbody>\n",
       "</table>\n",
       "</div>"
      ],
      "text/plain": [
       "   Category  Value  Other\n",
       "0         0      0      0\n",
       "1         1      1      1\n",
       "2         2      0      2\n",
       "3         0      2      0\n",
       "4         1      3      1\n",
       "5         2      4      2\n",
       "6         0      0      0\n",
       "7         1      5      1\n",
       "8         2      6      2\n",
       "9         0      7      0"
      ]
     },
     "execution_count": 77,
     "metadata": {},
     "output_type": "execute_result"
    }
   ],
   "source": [
    "df"
   ]
  },
  {
   "cell_type": "code",
   "execution_count": 98,
   "metadata": {},
   "outputs": [
    {
     "name": "stdout",
     "output_type": "stream",
     "text": [
      "Original DataFrame:\n"
     ]
    },
    {
     "data": {
      "text/html": [
       "<div>\n",
       "<style scoped>\n",
       "    .dataframe tbody tr th:only-of-type {\n",
       "        vertical-align: middle;\n",
       "    }\n",
       "\n",
       "    .dataframe tbody tr th {\n",
       "        vertical-align: top;\n",
       "    }\n",
       "\n",
       "    .dataframe thead th {\n",
       "        text-align: right;\n",
       "    }\n",
       "</style>\n",
       "<table border=\"1\" class=\"dataframe\">\n",
       "  <thead>\n",
       "    <tr style=\"text-align: right;\">\n",
       "      <th></th>\n",
       "      <th>Category</th>\n",
       "      <th>Value</th>\n",
       "      <th>Other</th>\n",
       "    </tr>\n",
       "  </thead>\n",
       "  <tbody>\n",
       "    <tr>\n",
       "      <th>0</th>\n",
       "      <td>A</td>\n",
       "      <td>10.0</td>\n",
       "      <td>X</td>\n",
       "    </tr>\n",
       "    <tr>\n",
       "      <th>1</th>\n",
       "      <td>B</td>\n",
       "      <td>20.0</td>\n",
       "      <td>Y</td>\n",
       "    </tr>\n",
       "    <tr>\n",
       "      <th>2</th>\n",
       "      <td>C</td>\n",
       "      <td>NaN</td>\n",
       "      <td>Z</td>\n",
       "    </tr>\n",
       "    <tr>\n",
       "      <th>3</th>\n",
       "      <td>A</td>\n",
       "      <td>30.0</td>\n",
       "      <td>X</td>\n",
       "    </tr>\n",
       "    <tr>\n",
       "      <th>4</th>\n",
       "      <td>B</td>\n",
       "      <td>40.0</td>\n",
       "      <td>Y</td>\n",
       "    </tr>\n",
       "    <tr>\n",
       "      <th>5</th>\n",
       "      <td>C</td>\n",
       "      <td>50.0</td>\n",
       "      <td>Z</td>\n",
       "    </tr>\n",
       "    <tr>\n",
       "      <th>6</th>\n",
       "      <td>A</td>\n",
       "      <td>NaN</td>\n",
       "      <td>X</td>\n",
       "    </tr>\n",
       "    <tr>\n",
       "      <th>7</th>\n",
       "      <td>B</td>\n",
       "      <td>60.0</td>\n",
       "      <td>Y</td>\n",
       "    </tr>\n",
       "    <tr>\n",
       "      <th>8</th>\n",
       "      <td>C</td>\n",
       "      <td>70.0</td>\n",
       "      <td>Z</td>\n",
       "    </tr>\n",
       "    <tr>\n",
       "      <th>9</th>\n",
       "      <td>NaN</td>\n",
       "      <td>80.0</td>\n",
       "      <td>X</td>\n",
       "    </tr>\n",
       "  </tbody>\n",
       "</table>\n",
       "</div>"
      ],
      "text/plain": [
       "  Category  Value Other\n",
       "0        A   10.0     X\n",
       "1        B   20.0     Y\n",
       "2        C    NaN     Z\n",
       "3        A   30.0     X\n",
       "4        B   40.0     Y\n",
       "5        C   50.0     Z\n",
       "6        A    NaN     X\n",
       "7        B   60.0     Y\n",
       "8        C   70.0     Z\n",
       "9      NaN   80.0     X"
      ]
     },
     "execution_count": 98,
     "metadata": {},
     "output_type": "execute_result"
    }
   ],
   "source": [
    "# Create a sample DataFrame\n",
    "data = {\n",
    "    'Category': ['A', 'B', 'C', 'A', 'B', 'C', 'A', 'B', 'C', np.nan],\n",
    "    'Value': [10, 20, np.nan, 30, 40, 50, np.nan, 60, 70, 80],\n",
    "    'Other': ['X', 'Y', 'Z', 'X', 'Y', 'Z', 'X', 'Y', 'Z', 'X']\n",
    "}\n",
    "\n",
    "df = pd.DataFrame(data)\n",
    "\n",
    "# Print the DataFrame\n",
    "print(\"Original DataFrame:\")\n",
    "df"
   ]
  },
  {
   "cell_type": "code",
   "execution_count": 79,
   "metadata": {},
   "outputs": [
    {
     "data": {
      "text/plain": [
       "0      A\n",
       "1      B\n",
       "2      C\n",
       "3      A\n",
       "4      B\n",
       "5      C\n",
       "6      A\n",
       "7      B\n",
       "8      C\n",
       "9    NaN\n",
       "Name: Category, dtype: object"
      ]
     },
     "execution_count": 79,
     "metadata": {},
     "output_type": "execute_result"
    }
   ],
   "source": [
    "df['Category'].fillna(value = df['Category'].mode())"
   ]
  },
  {
   "cell_type": "code",
   "execution_count": 80,
   "metadata": {},
   "outputs": [],
   "source": [
    "encode_features(df,'Other')"
   ]
  },
  {
   "cell_type": "code",
   "execution_count": 81,
   "metadata": {},
   "outputs": [],
   "source": [
    "\n",
    "def encode_features(dataframe,feature):\n",
    "   \n",
    "    a = dataframe[feature].unique()\n",
    "    print(a)\n",
    "    b = range(len(a))\n",
    "    print(b)\n",
    "    c = zip(a,b)\n",
    "    d = dict(tuple(c))\n",
    "    print(d)\n",
    "    data[feature]=dataframe[feature].map(d)\n",
    "    print(dataframe[feature])\n"
   ]
  },
  {
   "cell_type": "code",
   "execution_count": 82,
   "metadata": {},
   "outputs": [],
   "source": [
    "def fill_categorical_null(dataframe,feature):\n",
    "\n",
    "\n",
    "    if dataframe[feature].isnull().sum() < (0.35 * len(dataframe)):\n",
    "        \n",
    "        \n",
    "        print(\"Before\")\n",
    "        print(dataframe[feature])\n",
    "        dataframe[feature].fillna(value = dataframe[feature].mode()[0],inplace = True)\n",
    "        handle_categorical_features.update_dataframe(dataframe)    \n",
    "        print(f\"Filled null values of feature {feature} with class '{dataframe[feature].mode()[0]}'\")\n",
    "        print('After')\n",
    "        print(dataframe[feature])"
   ]
  },
  {
   "cell_type": "code",
   "execution_count": 83,
   "metadata": {},
   "outputs": [
    {
     "name": "stdout",
     "output_type": "stream",
     "text": [
      "['A' 'B' 'C' nan]\n",
      "range(0, 4)\n",
      "{'A': 0, 'B': 1, 'C': 2, nan: 3}\n",
      "0      A\n",
      "1      B\n",
      "2      C\n",
      "3      A\n",
      "4      B\n",
      "5      C\n",
      "6      A\n",
      "7      B\n",
      "8      C\n",
      "9    NaN\n",
      "Name: Category, dtype: object\n"
     ]
    }
   ],
   "source": [
    "\n",
    "encode_features(df,'Category')"
   ]
  },
  {
   "cell_type": "code",
   "execution_count": 84,
   "metadata": {},
   "outputs": [
    {
     "data": {
      "text/plain": [
       "{'Category': 0    0\n",
       " 1    1\n",
       " 2    2\n",
       " 3    0\n",
       " 4    1\n",
       " 5    2\n",
       " 6    0\n",
       " 7    1\n",
       " 8    2\n",
       " 9    3\n",
       " Name: Category, dtype: int64,\n",
       " 'Value': [10, 20, nan, 30, 40, 50, nan, 60, 70, 80],\n",
       " 'Other': ['X', 'Y', 'Z', 'X', 'Y', 'Z', 'X', 'Y', 'Z', 'X']}"
      ]
     },
     "execution_count": 84,
     "metadata": {},
     "output_type": "execute_result"
    }
   ],
   "source": [
    "data"
   ]
  },
  {
   "cell_type": "code",
   "execution_count": 85,
   "metadata": {},
   "outputs": [
    {
     "name": "stdout",
     "output_type": "stream",
     "text": [
      "['A' 'B' 'C' nan]\n",
      "range(0, 4)\n"
     ]
    }
   ],
   "source": [
    "a = df['Category'].unique()\n",
    "print(a)\n",
    "b = range(len(a))\n",
    "print(b)\n",
    "c = zip(a,b)\n",
    "d = dict(tuple(c))"
   ]
  },
  {
   "cell_type": "code",
   "execution_count": 86,
   "metadata": {},
   "outputs": [
    {
     "name": "stdout",
     "output_type": "stream",
     "text": [
      "0    0\n",
      "1    1\n",
      "2    2\n",
      "3    0\n",
      "4    1\n",
      "5    2\n",
      "6    0\n",
      "7    1\n",
      "8    2\n",
      "9    3\n",
      "Name: Category, dtype: int64\n"
     ]
    }
   ],
   "source": [
    "df['Category']=df['Category'].map(d)\n",
    "print(df['Category'])"
   ]
  },
  {
   "cell_type": "code",
   "execution_count": 87,
   "metadata": {},
   "outputs": [],
   "source": [
    "sorted_dict_by_values = dict(sorted(null_amount.items(), key=lambda item: item[1]))\n"
   ]
  },
  {
   "cell_type": "code",
   "execution_count": 88,
   "metadata": {},
   "outputs": [],
   "source": [
    "null_amount = {'a':7,'b':5,'c':6,'d' : 4}"
   ]
  },
  {
   "cell_type": "code",
   "execution_count": 89,
   "metadata": {},
   "outputs": [
    {
     "data": {
      "text/plain": [
       "{'d': 4, 'b': 5, 'c': 6, 'a': 7}"
      ]
     },
     "execution_count": 89,
     "metadata": {},
     "output_type": "execute_result"
    }
   ],
   "source": [
    "sorted_dict_by_values"
   ]
  },
  {
   "cell_type": "code",
   "execution_count": 104,
   "metadata": {},
   "outputs": [],
   "source": [
    "def remove_features_with_priority(global_dataframe , global_features , number):\n",
    "\n",
    "    null_amount = dict()\n",
    "\n",
    "    for feature in global_features:\n",
    "\n",
    "        null_amount[feature] = global_dataframe[feature].isnull().sum()\n",
    "    \n",
    "    sorted_dict_by_values = dict(sorted(null_amount.items(), key=lambda item: item[1]))\n",
    "    global_dataframe = global_dataframe[list(sorted_dict_by_values.keys())[:number]]\n"
   ]
  },
  {
   "cell_type": "code",
   "execution_count": 105,
   "metadata": {},
   "outputs": [
    {
     "name": "stdout",
     "output_type": "stream",
     "text": [
      "  Other Category\n",
      "0     X        A\n",
      "1     Y        B\n",
      "2     Z        C\n",
      "3     X        A\n",
      "4     Y        B\n",
      "5     Z        C\n",
      "6     X        A\n",
      "7     Y        B\n",
      "8     Z        C\n",
      "9     X      NaN\n"
     ]
    }
   ],
   "source": [
    "remove_features_with_priority(df,features,2)"
   ]
  },
  {
   "cell_type": "code",
   "execution_count": 2,
   "metadata": {},
   "outputs": [
    {
     "name": "stdout",
     "output_type": "stream",
     "text": [
      "     categorical_feature_1 categorical_feature_2  numerical_feature_1  \\\n",
      "0                      nan     object_category_1            -1.088663   \n",
      "1               category_7     object_category_6             0.284185   \n",
      "2                      nan     object_category_9            -0.403853   \n",
      "3              category_12     object_category_4             0.061933   \n",
      "4                      nan    object_category_14             0.818559   \n",
      "...                    ...                   ...                  ...   \n",
      "1495                   nan    object_category_14            -0.250861   \n",
      "1496                   nan     object_category_7             0.079220   \n",
      "1497            category_2     object_category_0             0.279983   \n",
      "1498            category_8    object_category_13            -0.588549   \n",
      "1499                   nan    object_category_13             0.800995   \n",
      "\n",
      "      numerical_feature_2  target  \n",
      "0               -0.259949       0  \n",
      "1                2.789960       0  \n",
      "2               -0.309437       1  \n",
      "3                0.174542       1  \n",
      "4                1.429940       0  \n",
      "...                   ...     ...  \n",
      "1495             0.610347       1  \n",
      "1496             0.696177       0  \n",
      "1497             1.296516       0  \n",
      "1498             0.137904       0  \n",
      "1499             0.579455       0  \n",
      "\n",
      "[1500 rows x 5 columns]\n"
     ]
    }
   ],
   "source": [
    "import pandas as pd\n",
    "import numpy as np\n",
    "\n",
    "# Number of records\n",
    "total_records = 1500\n",
    "num_classes = 15  # Number of classes for each categorical feature\n",
    "\n",
    "# Creating a DataFrame with 2 categorical features, 2 numerical features, and a target feature\n",
    "data = {\n",
    "    'categorical_feature_1': np.random.choice([f'category_{i}' for i in range(num_classes)], total_records),\n",
    "    'categorical_feature_2': np.random.choice([f'object_category_{i}' for i in range(num_classes)], total_records),\n",
    "    'numerical_feature_1': np.random.randn(total_records),\n",
    "    'numerical_feature_2': np.random.randn(total_records),\n",
    "    'target': np.random.choice([0, 1], total_records)  # Target feature with values 0 and 1\n",
    "}\n",
    "\n",
    "# Introducing NaN values in the first categorical feature\n",
    "nan_indices = np.random.choice(total_records, size=int(total_records * 0.6), replace=False)\n",
    "data['categorical_feature_1'][nan_indices] = np.nan\n",
    "\n",
    "# Creating a DataFrame\n",
    "df = pd.DataFrame(data)\n",
    "\n",
    "# Convert 'categorical_feature_2' to dtype 'object'\n",
    "df['categorical_feature_2'] = df['categorical_feature_2'].astype('object')\n",
    "\n",
    "# Display the DataFrame\n",
    "print(df)\n"
   ]
  },
  {
   "cell_type": "code",
   "execution_count": 3,
   "metadata": {},
   "outputs": [
    {
     "data": {
      "text/html": [
       "<div>\n",
       "<style scoped>\n",
       "    .dataframe tbody tr th:only-of-type {\n",
       "        vertical-align: middle;\n",
       "    }\n",
       "\n",
       "    .dataframe tbody tr th {\n",
       "        vertical-align: top;\n",
       "    }\n",
       "\n",
       "    .dataframe thead th {\n",
       "        text-align: right;\n",
       "    }\n",
       "</style>\n",
       "<table border=\"1\" class=\"dataframe\">\n",
       "  <thead>\n",
       "    <tr style=\"text-align: right;\">\n",
       "      <th></th>\n",
       "      <th>categorical_feature_1</th>\n",
       "      <th>categorical_feature_2</th>\n",
       "      <th>numerical_feature_1</th>\n",
       "      <th>numerical_feature_2</th>\n",
       "      <th>target</th>\n",
       "    </tr>\n",
       "  </thead>\n",
       "  <tbody>\n",
       "    <tr>\n",
       "      <th>0</th>\n",
       "      <td>nan</td>\n",
       "      <td>object_category_1</td>\n",
       "      <td>-1.088663</td>\n",
       "      <td>-0.259949</td>\n",
       "      <td>0</td>\n",
       "    </tr>\n",
       "    <tr>\n",
       "      <th>1</th>\n",
       "      <td>category_7</td>\n",
       "      <td>object_category_6</td>\n",
       "      <td>0.284185</td>\n",
       "      <td>2.789960</td>\n",
       "      <td>0</td>\n",
       "    </tr>\n",
       "    <tr>\n",
       "      <th>2</th>\n",
       "      <td>nan</td>\n",
       "      <td>object_category_9</td>\n",
       "      <td>-0.403853</td>\n",
       "      <td>-0.309437</td>\n",
       "      <td>1</td>\n",
       "    </tr>\n",
       "    <tr>\n",
       "      <th>3</th>\n",
       "      <td>category_12</td>\n",
       "      <td>object_category_4</td>\n",
       "      <td>0.061933</td>\n",
       "      <td>0.174542</td>\n",
       "      <td>1</td>\n",
       "    </tr>\n",
       "    <tr>\n",
       "      <th>4</th>\n",
       "      <td>nan</td>\n",
       "      <td>object_category_14</td>\n",
       "      <td>0.818559</td>\n",
       "      <td>1.429940</td>\n",
       "      <td>0</td>\n",
       "    </tr>\n",
       "    <tr>\n",
       "      <th>...</th>\n",
       "      <td>...</td>\n",
       "      <td>...</td>\n",
       "      <td>...</td>\n",
       "      <td>...</td>\n",
       "      <td>...</td>\n",
       "    </tr>\n",
       "    <tr>\n",
       "      <th>1495</th>\n",
       "      <td>nan</td>\n",
       "      <td>object_category_14</td>\n",
       "      <td>-0.250861</td>\n",
       "      <td>0.610347</td>\n",
       "      <td>1</td>\n",
       "    </tr>\n",
       "    <tr>\n",
       "      <th>1496</th>\n",
       "      <td>nan</td>\n",
       "      <td>object_category_7</td>\n",
       "      <td>0.079220</td>\n",
       "      <td>0.696177</td>\n",
       "      <td>0</td>\n",
       "    </tr>\n",
       "    <tr>\n",
       "      <th>1497</th>\n",
       "      <td>category_2</td>\n",
       "      <td>object_category_0</td>\n",
       "      <td>0.279983</td>\n",
       "      <td>1.296516</td>\n",
       "      <td>0</td>\n",
       "    </tr>\n",
       "    <tr>\n",
       "      <th>1498</th>\n",
       "      <td>category_8</td>\n",
       "      <td>object_category_13</td>\n",
       "      <td>-0.588549</td>\n",
       "      <td>0.137904</td>\n",
       "      <td>0</td>\n",
       "    </tr>\n",
       "    <tr>\n",
       "      <th>1499</th>\n",
       "      <td>nan</td>\n",
       "      <td>object_category_13</td>\n",
       "      <td>0.800995</td>\n",
       "      <td>0.579455</td>\n",
       "      <td>0</td>\n",
       "    </tr>\n",
       "  </tbody>\n",
       "</table>\n",
       "<p>1500 rows × 5 columns</p>\n",
       "</div>"
      ],
      "text/plain": [
       "     categorical_feature_1 categorical_feature_2  numerical_feature_1  \\\n",
       "0                      nan     object_category_1            -1.088663   \n",
       "1               category_7     object_category_6             0.284185   \n",
       "2                      nan     object_category_9            -0.403853   \n",
       "3              category_12     object_category_4             0.061933   \n",
       "4                      nan    object_category_14             0.818559   \n",
       "...                    ...                   ...                  ...   \n",
       "1495                   nan    object_category_14            -0.250861   \n",
       "1496                   nan     object_category_7             0.079220   \n",
       "1497            category_2     object_category_0             0.279983   \n",
       "1498            category_8    object_category_13            -0.588549   \n",
       "1499                   nan    object_category_13             0.800995   \n",
       "\n",
       "      numerical_feature_2  target  \n",
       "0               -0.259949       0  \n",
       "1                2.789960       0  \n",
       "2               -0.309437       1  \n",
       "3                0.174542       1  \n",
       "4                1.429940       0  \n",
       "...                   ...     ...  \n",
       "1495             0.610347       1  \n",
       "1496             0.696177       0  \n",
       "1497             1.296516       0  \n",
       "1498             0.137904       0  \n",
       "1499             0.579455       0  \n",
       "\n",
       "[1500 rows x 5 columns]"
      ]
     },
     "execution_count": 3,
     "metadata": {},
     "output_type": "execute_result"
    }
   ],
   "source": [
    "df"
   ]
  },
  {
   "cell_type": "code",
   "execution_count": 132,
   "metadata": {},
   "outputs": [
    {
     "data": {
      "text/plain": [
       "16"
      ]
     },
     "execution_count": 132,
     "metadata": {},
     "output_type": "execute_result"
    }
   ],
   "source": [
    "len(df['categorical_feature_1'].unique())"
   ]
  },
  {
   "cell_type": "code",
   "execution_count": 133,
   "metadata": {},
   "outputs": [],
   "source": [
    "# Save DataFrame to CSV file\n",
    "df.to_csv('dataset.csv', index=False)\n"
   ]
  },
  {
   "cell_type": "code",
   "execution_count": 129,
   "metadata": {},
   "outputs": [
    {
     "data": {
      "text/plain": [
       "16"
      ]
     },
     "execution_count": 129,
     "metadata": {},
     "output_type": "execute_result"
    }
   ],
   "source": [
    "len(df['categorical_feature_1'].unique())"
   ]
  },
  {
   "cell_type": "code",
   "execution_count": 134,
   "metadata": {},
   "outputs": [
    {
     "data": {
      "text/html": [
       "<div>\n",
       "<style scoped>\n",
       "    .dataframe tbody tr th:only-of-type {\n",
       "        vertical-align: middle;\n",
       "    }\n",
       "\n",
       "    .dataframe tbody tr th {\n",
       "        vertical-align: top;\n",
       "    }\n",
       "\n",
       "    .dataframe thead th {\n",
       "        text-align: right;\n",
       "    }\n",
       "</style>\n",
       "<table border=\"1\" class=\"dataframe\">\n",
       "  <thead>\n",
       "    <tr style=\"text-align: right;\">\n",
       "      <th></th>\n",
       "      <th>categorical_feature_1</th>\n",
       "      <th>categorical_feature_2</th>\n",
       "      <th>numerical_feature_1</th>\n",
       "      <th>numerical_feature_2</th>\n",
       "      <th>target</th>\n",
       "    </tr>\n",
       "  </thead>\n",
       "  <tbody>\n",
       "    <tr>\n",
       "      <th>0</th>\n",
       "      <td>nan</td>\n",
       "      <td>object_category_8</td>\n",
       "      <td>-1.967162</td>\n",
       "      <td>0.636070</td>\n",
       "      <td>0</td>\n",
       "    </tr>\n",
       "    <tr>\n",
       "      <th>1</th>\n",
       "      <td>nan</td>\n",
       "      <td>object_category_0</td>\n",
       "      <td>1.045327</td>\n",
       "      <td>-0.088962</td>\n",
       "      <td>0</td>\n",
       "    </tr>\n",
       "    <tr>\n",
       "      <th>2</th>\n",
       "      <td>category_6</td>\n",
       "      <td>object_category_7</td>\n",
       "      <td>1.487367</td>\n",
       "      <td>-2.529500</td>\n",
       "      <td>1</td>\n",
       "    </tr>\n",
       "    <tr>\n",
       "      <th>3</th>\n",
       "      <td>nan</td>\n",
       "      <td>object_category_10</td>\n",
       "      <td>0.650361</td>\n",
       "      <td>0.328308</td>\n",
       "      <td>0</td>\n",
       "    </tr>\n",
       "    <tr>\n",
       "      <th>4</th>\n",
       "      <td>nan</td>\n",
       "      <td>object_category_1</td>\n",
       "      <td>0.037850</td>\n",
       "      <td>-2.785883</td>\n",
       "      <td>0</td>\n",
       "    </tr>\n",
       "    <tr>\n",
       "      <th>...</th>\n",
       "      <td>...</td>\n",
       "      <td>...</td>\n",
       "      <td>...</td>\n",
       "      <td>...</td>\n",
       "      <td>...</td>\n",
       "    </tr>\n",
       "    <tr>\n",
       "      <th>1495</th>\n",
       "      <td>category_4</td>\n",
       "      <td>object_category_8</td>\n",
       "      <td>-0.587053</td>\n",
       "      <td>-1.677514</td>\n",
       "      <td>1</td>\n",
       "    </tr>\n",
       "    <tr>\n",
       "      <th>1496</th>\n",
       "      <td>category_10</td>\n",
       "      <td>object_category_10</td>\n",
       "      <td>0.169709</td>\n",
       "      <td>1.230243</td>\n",
       "      <td>0</td>\n",
       "    </tr>\n",
       "    <tr>\n",
       "      <th>1497</th>\n",
       "      <td>nan</td>\n",
       "      <td>object_category_8</td>\n",
       "      <td>-2.333901</td>\n",
       "      <td>0.442753</td>\n",
       "      <td>0</td>\n",
       "    </tr>\n",
       "    <tr>\n",
       "      <th>1498</th>\n",
       "      <td>nan</td>\n",
       "      <td>object_category_6</td>\n",
       "      <td>0.340650</td>\n",
       "      <td>-0.041460</td>\n",
       "      <td>1</td>\n",
       "    </tr>\n",
       "    <tr>\n",
       "      <th>1499</th>\n",
       "      <td>category_6</td>\n",
       "      <td>object_category_6</td>\n",
       "      <td>-0.672816</td>\n",
       "      <td>0.510664</td>\n",
       "      <td>1</td>\n",
       "    </tr>\n",
       "  </tbody>\n",
       "</table>\n",
       "<p>1500 rows × 5 columns</p>\n",
       "</div>"
      ],
      "text/plain": [
       "     categorical_feature_1 categorical_feature_2  numerical_feature_1  \\\n",
       "0                      nan     object_category_8            -1.967162   \n",
       "1                      nan     object_category_0             1.045327   \n",
       "2               category_6     object_category_7             1.487367   \n",
       "3                      nan    object_category_10             0.650361   \n",
       "4                      nan     object_category_1             0.037850   \n",
       "...                    ...                   ...                  ...   \n",
       "1495            category_4     object_category_8            -0.587053   \n",
       "1496           category_10    object_category_10             0.169709   \n",
       "1497                   nan     object_category_8            -2.333901   \n",
       "1498                   nan     object_category_6             0.340650   \n",
       "1499            category_6     object_category_6            -0.672816   \n",
       "\n",
       "      numerical_feature_2  target  \n",
       "0                0.636070       0  \n",
       "1               -0.088962       0  \n",
       "2               -2.529500       1  \n",
       "3                0.328308       0  \n",
       "4               -2.785883       0  \n",
       "...                   ...     ...  \n",
       "1495            -1.677514       1  \n",
       "1496             1.230243       0  \n",
       "1497             0.442753       0  \n",
       "1498            -0.041460       1  \n",
       "1499             0.510664       1  \n",
       "\n",
       "[1500 rows x 5 columns]"
      ]
     },
     "execution_count": 134,
     "metadata": {},
     "output_type": "execute_result"
    }
   ],
   "source": [
    "df"
   ]
  },
  {
   "cell_type": "code",
   "execution_count": 138,
   "metadata": {},
   "outputs": [
    {
     "data": {
      "text/html": [
       "<div>\n",
       "<style scoped>\n",
       "    .dataframe tbody tr th:only-of-type {\n",
       "        vertical-align: middle;\n",
       "    }\n",
       "\n",
       "    .dataframe tbody tr th {\n",
       "        vertical-align: top;\n",
       "    }\n",
       "\n",
       "    .dataframe thead th {\n",
       "        text-align: right;\n",
       "    }\n",
       "</style>\n",
       "<table border=\"1\" class=\"dataframe\">\n",
       "  <thead>\n",
       "    <tr style=\"text-align: right;\">\n",
       "      <th></th>\n",
       "      <th>categorical_feature_1</th>\n",
       "      <th>categorical_feature_2</th>\n",
       "      <th>numerical_feature_1</th>\n",
       "      <th>numerical_feature_2</th>\n",
       "      <th>target</th>\n",
       "    </tr>\n",
       "  </thead>\n",
       "  <tbody>\n",
       "    <tr>\n",
       "      <th>0</th>\n",
       "      <td>nan</td>\n",
       "      <td>object_category_8</td>\n",
       "      <td>-1.967162</td>\n",
       "      <td>0.636070</td>\n",
       "      <td>0</td>\n",
       "    </tr>\n",
       "    <tr>\n",
       "      <th>1</th>\n",
       "      <td>nan</td>\n",
       "      <td>object_category_0</td>\n",
       "      <td>1.045327</td>\n",
       "      <td>-0.088962</td>\n",
       "      <td>0</td>\n",
       "    </tr>\n",
       "    <tr>\n",
       "      <th>2</th>\n",
       "      <td>category_6</td>\n",
       "      <td>object_category_7</td>\n",
       "      <td>1.487367</td>\n",
       "      <td>-2.529500</td>\n",
       "      <td>1</td>\n",
       "    </tr>\n",
       "    <tr>\n",
       "      <th>3</th>\n",
       "      <td>nan</td>\n",
       "      <td>object_category_10</td>\n",
       "      <td>0.650361</td>\n",
       "      <td>0.328308</td>\n",
       "      <td>0</td>\n",
       "    </tr>\n",
       "    <tr>\n",
       "      <th>4</th>\n",
       "      <td>nan</td>\n",
       "      <td>object_category_1</td>\n",
       "      <td>0.037850</td>\n",
       "      <td>-2.785883</td>\n",
       "      <td>0</td>\n",
       "    </tr>\n",
       "  </tbody>\n",
       "</table>\n",
       "</div>"
      ],
      "text/plain": [
       "  categorical_feature_1 categorical_feature_2  numerical_feature_1  \\\n",
       "0                   nan     object_category_8            -1.967162   \n",
       "1                   nan     object_category_0             1.045327   \n",
       "2            category_6     object_category_7             1.487367   \n",
       "3                   nan    object_category_10             0.650361   \n",
       "4                   nan     object_category_1             0.037850   \n",
       "\n",
       "   numerical_feature_2  target  \n",
       "0             0.636070       0  \n",
       "1            -0.088962       0  \n",
       "2            -2.529500       1  \n",
       "3             0.328308       0  \n",
       "4            -2.785883       0  "
      ]
     },
     "execution_count": 138,
     "metadata": {},
     "output_type": "execute_result"
    }
   ],
   "source": [
    "\n",
    "df.drop(['target'], axis = 1)\n"
   ]
  },
  {
   "cell_type": "code",
   "execution_count": 4,
   "metadata": {},
   "outputs": [
    {
     "name": "stdout",
     "output_type": "stream",
     "text": [
      "   column1 column2  column3\n",
      "0        1       a     True\n",
      "1        1       a     True\n",
      "2        1       a     True\n"
     ]
    }
   ],
   "source": [
    "import pandas as pd\n",
    "\n",
    "# Assuming your dataset is stored in a dictionary\n",
    "data = {\n",
    "    'column1': 1,\n",
    "    'column2': 'a',    \n",
    "    'column3': True\n",
    "}\n",
    "\n",
    "# Create a DataFrame from the dictionary\n",
    "df = pd.DataFrame(data , index = range(len(data)))\n",
    "\n",
    "# Print the DataFrame\n",
    "print(df)\n"
   ]
  },
  {
   "cell_type": "code",
   "execution_count": 4,
   "metadata": {},
   "outputs": [],
   "source": [
    "from sklearn.model_selection import train_test_split\n",
    "x = df.drop(columns = ['target'])\n",
    "y =  df['target']\n",
    "# Split the resampled data into training and testing sets\n",
    "X_train, X_test, y_train, y_test = train_test_split(x,y, test_size=0.2, random_state=42)\n",
    "\n",
    "# Now you can use X_train and y_train for training your model\n",
    "# And X_test and y_test for evaluating its performance\n"
   ]
  },
  {
   "cell_type": "code",
   "execution_count": 5,
   "metadata": {},
   "outputs": [],
   "source": [
    "U , C = np.unique(y , return_counts=True)"
   ]
  },
  {
   "cell_type": "code",
   "execution_count": 6,
   "metadata": {},
   "outputs": [
    {
     "data": {
      "text/plain": [
       "array([0, 1])"
      ]
     },
     "execution_count": 6,
     "metadata": {},
     "output_type": "execute_result"
    }
   ],
   "source": [
    "U"
   ]
  },
  {
   "cell_type": "code",
   "execution_count": 7,
   "metadata": {},
   "outputs": [
    {
     "data": {
      "text/plain": [
       "array([744, 756])"
      ]
     },
     "execution_count": 7,
     "metadata": {},
     "output_type": "execute_result"
    }
   ],
   "source": [
    "C"
   ]
  },
  {
   "cell_type": "code",
   "execution_count": 8,
   "metadata": {},
   "outputs": [
    {
     "ename": "ModuleNotFoundError",
     "evalue": "No module named 'tensorflow'",
     "output_type": "error",
     "traceback": [
      "\u001b[0;31m---------------------------------------------------------------------------\u001b[0m",
      "\u001b[0;31mModuleNotFoundError\u001b[0m                       Traceback (most recent call last)",
      "\u001b[1;32m/home/iqube/Documents/DynoML/ML_Automation/ML.ipynb Cell 77\u001b[0m line \u001b[0;36m1\n\u001b[0;32m----> <a href='vscode-notebook-cell:/home/iqube/Documents/DynoML/ML_Automation/ML.ipynb#Y136sZmlsZQ%3D%3D?line=0'>1</a>\u001b[0m \u001b[39mimport\u001b[39;00m \u001b[39mtensorflow\u001b[39;00m \u001b[39mas\u001b[39;00m \u001b[39mtf\u001b[39;00m\n\u001b[1;32m      <a href='vscode-notebook-cell:/home/iqube/Documents/DynoML/ML_Automation/ML.ipynb#Y136sZmlsZQ%3D%3D?line=1'>2</a>\u001b[0m \u001b[39mfrom\u001b[39;00m \u001b[39mtensorflow\u001b[39;00m\u001b[39m.\u001b[39;00m\u001b[39mkeras\u001b[39;00m\u001b[39m.\u001b[39;00m\u001b[39mmodels\u001b[39;00m \u001b[39mimport\u001b[39;00m Sequential\n\u001b[1;32m      <a href='vscode-notebook-cell:/home/iqube/Documents/DynoML/ML_Automation/ML.ipynb#Y136sZmlsZQ%3D%3D?line=2'>3</a>\u001b[0m \u001b[39mfrom\u001b[39;00m \u001b[39mtensorflow\u001b[39;00m\u001b[39m.\u001b[39;00m\u001b[39mkeras\u001b[39;00m\u001b[39m.\u001b[39;00m\u001b[39mlayers\u001b[39;00m \u001b[39mimport\u001b[39;00m Dense\n",
      "\u001b[0;31mModuleNotFoundError\u001b[0m: No module named 'tensorflow'"
     ]
    }
   ],
   "source": [
    "import tensorflow as tf\n",
    "from tensorflow.keras.models import Sequential\n",
    "from tensorflow.keras.layers import Dense\n",
    "\n",
    "# Define the model architecture\n",
    "model = Sequential([\n",
    "    Dense(64, activation='relu', input_shape=(X_train.shape[1],)),  # Input layer with 64 neurons and ReLU activation function\n",
    "    Dense(32, activation='relu'),  # Hidden layer with 32 neurons and ReLU activation function\n",
    "    Dense(1, activation='sigmoid')  # Output layer with 1 neuron and sigmoid activation function for binary classification\n",
    "])\n",
    "\n",
    "# Compile the model\n",
    "model.compile(optimizer='adam', loss='binary_crossentropy', metrics=['accuracy'])\n",
    "\n",
    "# Print the model summary\n",
    "model.summary()\n"
   ]
  },
  {
   "cell_type": "code",
   "execution_count": null,
   "metadata": {},
   "outputs": [],
   "source": []
  }
 ],
 "metadata": {
  "kernelspec": {
   "display_name": "Python 3",
   "language": "python",
   "name": "python3"
  },
  "language_info": {
   "codemirror_mode": {
    "name": "ipython",
    "version": 3
   },
   "file_extension": ".py",
   "mimetype": "text/x-python",
   "name": "python",
   "nbconvert_exporter": "python",
   "pygments_lexer": "ipython3",
   "version": "3.11.6"
  }
 },
 "nbformat": 4,
 "nbformat_minor": 2
}
