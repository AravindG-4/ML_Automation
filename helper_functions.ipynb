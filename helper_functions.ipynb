{
 "cells": [
  {
   "cell_type": "code",
   "execution_count": 1,
   "metadata": {},
   "outputs": [],
   "source": [
    "import pandas as pd\n",
    "import numpy as np"
   ]
  },
  {
   "cell_type": "code",
   "execution_count": null,
   "metadata": {},
   "outputs": [],
   "source": [
    "def check_class_frequency(dataframe,feature):\n",
    "\n",
    "    class_counts = dataframe[feature].value_counts()\n",
    "    class_to_count = dataframe[feature].unique()\n",
    "    class_with_low_frequency = []\n",
    "\n",
    "\n",
    "\n",
    "    for i in class_to_count:\n",
    "        \n",
    "        class_frequency = class_counts.get(i, 0)\n",
    "        l = len(dataframe)\n",
    "        \n",
    "        if class_frequency < (0.005 * l):\n",
    "            \n",
    "            class_with_low_frequency.append(i)\n",
    "    return class_with_low_frequency\n",
    "    "
   ]
  },
  {
   "cell_type": "code",
   "execution_count": 18,
   "metadata": {},
   "outputs": [],
   "source": [
    "def fill_na_with_more_null(dataframe,feature):\n",
    "    if dataframe[feature].isnull().sum() >= (0.35 * len(dataframe)):\n",
    "        dataframe[feature].fillna(value = 'Missing',inplace = True)\n",
    "        update_dataframe\n",
    "\n"
   ]
  },
  {
   "cell_type": "code",
   "execution_count": 19,
   "metadata": {},
   "outputs": [],
   "source": [
    "import pandas as pd\n",
    "\n",
    "# Example DataFrame\n",
    "data = {'A': [None, None, None, 4, 5],\n",
    "        'B': ['a', None, 'c', 'd', 'e']}\n",
    "df = pd.DataFrame(data)\n",
    "\n",
    "\n"
   ]
  },
  {
   "cell_type": "code",
   "execution_count": 20,
   "metadata": {},
   "outputs": [
    {
     "name": "stderr",
     "output_type": "stream",
     "text": [
      "/tmp/ipykernel_10955/1295473860.py:3: FutureWarning: Setting an item of incompatible dtype is deprecated and will raise in a future error of pandas. Value 'Missing' has dtype incompatible with float64, please explicitly cast to a compatible dtype first.\n",
      "  dataframe[feature].fillna(value = 'Missing',inplace = True)\n"
     ]
    }
   ],
   "source": [
    "df1 = fill_na_with_more_null(df,'A')"
   ]
  },
  {
   "cell_type": "code",
   "execution_count": 21,
   "metadata": {},
   "outputs": [
    {
     "data": {
      "text/plain": [
       "0    Missing\n",
       "1    Missing\n",
       "2    Missing\n",
       "3        4.0\n",
       "4        5.0\n",
       "Name: A, dtype: object"
      ]
     },
     "execution_count": 21,
     "metadata": {},
     "output_type": "execute_result"
    }
   ],
   "source": [
    "df1"
   ]
  },
  {
   "cell_type": "code",
   "execution_count": 13,
   "metadata": {},
   "outputs": [
    {
     "data": {
      "text/plain": [
       "True"
      ]
     },
     "execution_count": 13,
     "metadata": {},
     "output_type": "execute_result"
    }
   ],
   "source": [
    "df['A'].fillna()"
   ]
  },
  {
   "cell_type": "code",
   "execution_count": 25,
   "metadata": {},
   "outputs": [],
   "source": [
    "def create_rare_class(dataframe , feature, classes_with_low_frequency):\n",
    "\n",
    "    a = classes_with_low_frequency\n",
    "    b = ['Rare'] * len(a)\n",
    "    c = tuple(zip(a,b))\n",
    "    d = dict(c)\n",
    "    dataframe[feature].map()\n",
    "    return dataframe\n",
    "\n"
   ]
  },
  {
   "cell_type": "code",
   "execution_count": 24,
   "metadata": {},
   "outputs": [
    {
     "data": {
      "text/plain": [
       "['Rare', 'Rare', 'Rare', 'Rare', 'Rare']"
      ]
     },
     "execution_count": 24,
     "metadata": {},
     "output_type": "execute_result"
    }
   ],
   "source": []
  },
  {
   "cell_type": "code",
   "execution_count": null,
   "metadata": {},
   "outputs": [],
   "source": []
  }
 ],
 "metadata": {
  "kernelspec": {
   "display_name": "Python 3",
   "language": "python",
   "name": "python3"
  },
  "language_info": {
   "codemirror_mode": {
    "name": "ipython",
    "version": 3
   },
   "file_extension": ".py",
   "mimetype": "text/x-python",
   "name": "python",
   "nbconvert_exporter": "python",
   "pygments_lexer": "ipython3",
   "version": "3.11.6"
  }
 },
 "nbformat": 4,
 "nbformat_minor": 2
}
